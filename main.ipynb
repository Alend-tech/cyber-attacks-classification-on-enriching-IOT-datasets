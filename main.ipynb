{
  "cells": [
    {
      "cell_type": "markdown",
      "metadata": {
        "id": "view-in-github",
        "colab_type": "text"
      },
      "source": [
        "<a href=\"https://colab.research.google.com/github/Alend-tech/cyber-attacks-classification-on-enriching-IOT-datasets/blob/main/main.ipynb\" target=\"_parent\"><img src=\"https://colab.research.google.com/assets/colab-badge.svg\" alt=\"Open In Colab\"/></a>"
      ]
    },
    {
      "cell_type": "code",
      "execution_count": null,
      "metadata": {
        "colab": {
          "base_uri": "https://localhost:8080/"
        },
        "id": "J5UHWHDK-R2P",
        "outputId": "4e149b16-3dad-49cc-92a2-20a018c1d113"
      },
      "outputs": [
        {
          "output_type": "stream",
          "name": "stdout",
          "text": [
            "Requirement already satisfied: scikit-learn in /usr/local/lib/python3.10/dist-packages (1.3.1)\n",
            "Requirement already satisfied: numpy<2.0,>=1.17.3 in /usr/local/lib/python3.10/dist-packages (from scikit-learn) (1.23.5)\n",
            "Requirement already satisfied: scipy>=1.5.0 in /usr/local/lib/python3.10/dist-packages (from scikit-learn) (1.11.3)\n",
            "Requirement already satisfied: joblib>=1.1.1 in /usr/local/lib/python3.10/dist-packages (from scikit-learn) (1.3.2)\n",
            "Requirement already satisfied: threadpoolctl>=2.0.0 in /usr/local/lib/python3.10/dist-packages (from scikit-learn) (3.2.0)\n"
          ]
        }
      ],
      "source": [
        "!pip install -U scikit-learn"
      ]
    },
    {
      "cell_type": "code",
      "execution_count": null,
      "metadata": {
        "id": "188mF-bq5zao"
      },
      "outputs": [],
      "source": [
        "!pip install -q scikit-learn imblearn"
      ]
    },
    {
      "cell_type": "code",
      "execution_count": null,
      "metadata": {
        "id": "89NzxG36I7i5",
        "colab": {
          "base_uri": "https://localhost:8080/"
        },
        "outputId": "b9c1d81b-aa3e-4c64-ce6d-b1c8731f26fa"
      },
      "outputs": [
        {
          "output_type": "stream",
          "name": "stdout",
          "text": [
            "Collecting sklearn\n",
            "  Using cached sklearn-0.0.post10.tar.gz (3.6 kB)\n",
            "  Preparing metadata (setup.py) ... \u001b[?25l\u001b[?25hdone\n",
            "Building wheels for collected packages: sklearn\n",
            "  Building wheel for sklearn (setup.py) ... \u001b[?25l\u001b[?25hdone\n",
            "  Created wheel for sklearn: filename=sklearn-0.0.post10-py3-none-any.whl size=2959 sha256=ef7d1830b059408902049a7f693700eac5f3fb15c8ec8ea18cc7b7b2b3438ec8\n",
            "  Stored in directory: /root/.cache/pip/wheels/5b/f6/92/0173054cc528db7ffe7b0c7652a96c3102aab156a6da960387\n",
            "Successfully built sklearn\n",
            "Installing collected packages: sklearn\n",
            "Successfully installed sklearn-0.0.post10\n"
          ]
        }
      ],
      "source": [
        "!pip install sklearn"
      ]
    },
    {
      "cell_type": "code",
      "execution_count": null,
      "metadata": {
        "id": "uTgHtrNKR-Ja"
      },
      "outputs": [],
      "source": [
        "from sklearn.datasets import make_classification\n",
        "from sklearn.neighbors import KNeighborsClassifier\n",
        "from sklearn.tree import DecisionTreeClassifier\n",
        "from xgboost import XGBClassifier\n",
        "from sklearn.naive_bayes import BernoulliNB\n",
        "from sklearn.neural_network import MLPClassifier\n",
        "from sklearn.model_selection import cross_val_score\n",
        "from warnings import simplefilter\n",
        "from sklearn.exceptions import ConvergenceWarning\n",
        "from sklearn.model_selection import train_test_split\n",
        "from sklearn.decomposition import PCA\n",
        "import numpy as np\n",
        "import seaborn as sns\n",
        "import matplotlib.pyplot as plt\n",
        "import matplotlib.patches as mpatches\n",
        "import pandas as pd\n",
        "from sklearn import model_selection\n",
        "from sklearn import tree\n",
        "import xgboost as xgb\n",
        "from imblearn.over_sampling import SMOTE, ADASYN\n",
        "%matplotlib inline"
      ]
    },
    {
      "cell_type": "code",
      "execution_count": null,
      "metadata": {
        "id": "KBElaMKXSPn5"
      },
      "outputs": [],
      "source": [
        "simplefilter(\"ignore\", category=ConvergenceWarning)\n",
        "simplefilter(\"ignore\", category=FutureWarning)"
      ]
    },
    {
      "cell_type": "code",
      "execution_count": null,
      "metadata": {
        "id": "B8NDwObR8OiW"
      },
      "outputs": [],
      "source": [
        "# Importing necessary libraries\n",
        "from sklearn.preprocessing import LabelEncoder, StandardScaler\n",
        "from sklearn.ensemble import RandomForestClassifier\n",
        "from sklearn.metrics import classification_report\n"
      ]
    },
    {
      "cell_type": "code",
      "execution_count": null,
      "metadata": {
        "id": "KlT7Kxb06pSo",
        "colab": {
          "base_uri": "https://localhost:8080/"
        },
        "outputId": "3a5e3539-ac34-4ad0-996e-439af1f11a83"
      },
      "outputs": [
        {
          "output_type": "stream",
          "name": "stdout",
          "text": [
            "Mounted at /content/drive\n"
          ]
        }
      ],
      "source": [
        "from google.colab import drive\n",
        "drive.mount('/content/drive')"
      ]
    },
    {
      "cell_type": "code",
      "execution_count": null,
      "metadata": {
        "colab": {
          "base_uri": "https://localhost:8080/",
          "height": 273
        },
        "id": "_Pshb-gz8OiX",
        "outputId": "3e3a071a-9909-4eb5-e11c-38ea9b764b44"
      },
      "outputs": [
        {
          "output_type": "execute_result",
          "data": {
            "text/plain": [
              "   Unnamed: 0          ts  flow_duration  Header_Length       Source IP  \\\n",
              "0           0  1528095664       0.000000           1112  192.168.100.46   \n",
              "1           1  1528095664       0.000000           1405  192.168.100.55   \n",
              "2           2  1528095664       0.000005           2591   192.168.100.3   \n",
              "3           3  1528095664       0.000000            777  192.168.100.46   \n",
              "4           4  1528095664       0.003423           1709   192.168.100.5   \n",
              "\n",
              "   Destination IP  Source Port  Destination Port  Protocol Type  Unnamed: 9  \\\n",
              "0   192.168.100.5         3456                80             17         NaN   \n",
              "1   192.168.100.3         8080                80              6         NaN   \n",
              "2  192.168.100.55           80              8080              6         NaN   \n",
              "3   192.168.100.5           80                80             17         NaN   \n",
              "4  192.168.100.46           80              3456             17         NaN   \n",
              "\n",
              "   ...  wifi_dst  Sequence number  Protocol Version  flow_idle_time  \\\n",
              "0  ...         0                0                 0    1.528096e+09   \n",
              "1  ...         0                0                 0    1.528096e+09   \n",
              "2  ...         0                0                 0    5.010000e-06   \n",
              "3  ...         0                0                 0    1.528096e+09   \n",
              "4  ...         0                0                 0    3.422976e-03   \n",
              "\n",
              "   flow_active_time  Correlation  RARP  category  Protocol_name  label  \n",
              "0          0.000000          0.0     0      Ddos            UDP    111  \n",
              "1          0.000000          0.0     0      Ddos            TCP    112  \n",
              "2          0.000005          0.0     0      Ddos            TCP    112  \n",
              "3          0.000000          0.0     0      Ddos            UDP    111  \n",
              "4          0.003423          0.0     0      Ddos            UDP    111  \n",
              "\n",
              "[5 rows x 96 columns]"
            ],
            "text/html": [
              "\n",
              "  <div id=\"df-7600be19-f946-416c-991f-e6419e379935\" class=\"colab-df-container\">\n",
              "    <div>\n",
              "<style scoped>\n",
              "    .dataframe tbody tr th:only-of-type {\n",
              "        vertical-align: middle;\n",
              "    }\n",
              "\n",
              "    .dataframe tbody tr th {\n",
              "        vertical-align: top;\n",
              "    }\n",
              "\n",
              "    .dataframe thead th {\n",
              "        text-align: right;\n",
              "    }\n",
              "</style>\n",
              "<table border=\"1\" class=\"dataframe\">\n",
              "  <thead>\n",
              "    <tr style=\"text-align: right;\">\n",
              "      <th></th>\n",
              "      <th>Unnamed: 0</th>\n",
              "      <th>ts</th>\n",
              "      <th>flow_duration</th>\n",
              "      <th>Header_Length</th>\n",
              "      <th>Source IP</th>\n",
              "      <th>Destination IP</th>\n",
              "      <th>Source Port</th>\n",
              "      <th>Destination Port</th>\n",
              "      <th>Protocol Type</th>\n",
              "      <th>Unnamed: 9</th>\n",
              "      <th>...</th>\n",
              "      <th>wifi_dst</th>\n",
              "      <th>Sequence number</th>\n",
              "      <th>Protocol Version</th>\n",
              "      <th>flow_idle_time</th>\n",
              "      <th>flow_active_time</th>\n",
              "      <th>Correlation</th>\n",
              "      <th>RARP</th>\n",
              "      <th>category</th>\n",
              "      <th>Protocol_name</th>\n",
              "      <th>label</th>\n",
              "    </tr>\n",
              "  </thead>\n",
              "  <tbody>\n",
              "    <tr>\n",
              "      <th>0</th>\n",
              "      <td>0</td>\n",
              "      <td>1528095664</td>\n",
              "      <td>0.000000</td>\n",
              "      <td>1112</td>\n",
              "      <td>192.168.100.46</td>\n",
              "      <td>192.168.100.5</td>\n",
              "      <td>3456</td>\n",
              "      <td>80</td>\n",
              "      <td>17</td>\n",
              "      <td>NaN</td>\n",
              "      <td>...</td>\n",
              "      <td>0</td>\n",
              "      <td>0</td>\n",
              "      <td>0</td>\n",
              "      <td>1.528096e+09</td>\n",
              "      <td>0.000000</td>\n",
              "      <td>0.0</td>\n",
              "      <td>0</td>\n",
              "      <td>Ddos</td>\n",
              "      <td>UDP</td>\n",
              "      <td>111</td>\n",
              "    </tr>\n",
              "    <tr>\n",
              "      <th>1</th>\n",
              "      <td>1</td>\n",
              "      <td>1528095664</td>\n",
              "      <td>0.000000</td>\n",
              "      <td>1405</td>\n",
              "      <td>192.168.100.55</td>\n",
              "      <td>192.168.100.3</td>\n",
              "      <td>8080</td>\n",
              "      <td>80</td>\n",
              "      <td>6</td>\n",
              "      <td>NaN</td>\n",
              "      <td>...</td>\n",
              "      <td>0</td>\n",
              "      <td>0</td>\n",
              "      <td>0</td>\n",
              "      <td>1.528096e+09</td>\n",
              "      <td>0.000000</td>\n",
              "      <td>0.0</td>\n",
              "      <td>0</td>\n",
              "      <td>Ddos</td>\n",
              "      <td>TCP</td>\n",
              "      <td>112</td>\n",
              "    </tr>\n",
              "    <tr>\n",
              "      <th>2</th>\n",
              "      <td>2</td>\n",
              "      <td>1528095664</td>\n",
              "      <td>0.000005</td>\n",
              "      <td>2591</td>\n",
              "      <td>192.168.100.3</td>\n",
              "      <td>192.168.100.55</td>\n",
              "      <td>80</td>\n",
              "      <td>8080</td>\n",
              "      <td>6</td>\n",
              "      <td>NaN</td>\n",
              "      <td>...</td>\n",
              "      <td>0</td>\n",
              "      <td>0</td>\n",
              "      <td>0</td>\n",
              "      <td>5.010000e-06</td>\n",
              "      <td>0.000005</td>\n",
              "      <td>0.0</td>\n",
              "      <td>0</td>\n",
              "      <td>Ddos</td>\n",
              "      <td>TCP</td>\n",
              "      <td>112</td>\n",
              "    </tr>\n",
              "    <tr>\n",
              "      <th>3</th>\n",
              "      <td>3</td>\n",
              "      <td>1528095664</td>\n",
              "      <td>0.000000</td>\n",
              "      <td>777</td>\n",
              "      <td>192.168.100.46</td>\n",
              "      <td>192.168.100.5</td>\n",
              "      <td>80</td>\n",
              "      <td>80</td>\n",
              "      <td>17</td>\n",
              "      <td>NaN</td>\n",
              "      <td>...</td>\n",
              "      <td>0</td>\n",
              "      <td>0</td>\n",
              "      <td>0</td>\n",
              "      <td>1.528096e+09</td>\n",
              "      <td>0.000000</td>\n",
              "      <td>0.0</td>\n",
              "      <td>0</td>\n",
              "      <td>Ddos</td>\n",
              "      <td>UDP</td>\n",
              "      <td>111</td>\n",
              "    </tr>\n",
              "    <tr>\n",
              "      <th>4</th>\n",
              "      <td>4</td>\n",
              "      <td>1528095664</td>\n",
              "      <td>0.003423</td>\n",
              "      <td>1709</td>\n",
              "      <td>192.168.100.5</td>\n",
              "      <td>192.168.100.46</td>\n",
              "      <td>80</td>\n",
              "      <td>3456</td>\n",
              "      <td>17</td>\n",
              "      <td>NaN</td>\n",
              "      <td>...</td>\n",
              "      <td>0</td>\n",
              "      <td>0</td>\n",
              "      <td>0</td>\n",
              "      <td>3.422976e-03</td>\n",
              "      <td>0.003423</td>\n",
              "      <td>0.0</td>\n",
              "      <td>0</td>\n",
              "      <td>Ddos</td>\n",
              "      <td>UDP</td>\n",
              "      <td>111</td>\n",
              "    </tr>\n",
              "  </tbody>\n",
              "</table>\n",
              "<p>5 rows × 96 columns</p>\n",
              "</div>\n",
              "    <div class=\"colab-df-buttons\">\n",
              "\n",
              "  <div class=\"colab-df-container\">\n",
              "    <button class=\"colab-df-convert\" onclick=\"convertToInteractive('df-7600be19-f946-416c-991f-e6419e379935')\"\n",
              "            title=\"Convert this dataframe to an interactive table.\"\n",
              "            style=\"display:none;\">\n",
              "\n",
              "  <svg xmlns=\"http://www.w3.org/2000/svg\" height=\"24px\" viewBox=\"0 -960 960 960\">\n",
              "    <path d=\"M120-120v-720h720v720H120Zm60-500h600v-160H180v160Zm220 220h160v-160H400v160Zm0 220h160v-160H400v160ZM180-400h160v-160H180v160Zm440 0h160v-160H620v160ZM180-180h160v-160H180v160Zm440 0h160v-160H620v160Z\"/>\n",
              "  </svg>\n",
              "    </button>\n",
              "\n",
              "  <style>\n",
              "    .colab-df-container {\n",
              "      display:flex;\n",
              "      gap: 12px;\n",
              "    }\n",
              "\n",
              "    .colab-df-convert {\n",
              "      background-color: #E8F0FE;\n",
              "      border: none;\n",
              "      border-radius: 50%;\n",
              "      cursor: pointer;\n",
              "      display: none;\n",
              "      fill: #1967D2;\n",
              "      height: 32px;\n",
              "      padding: 0 0 0 0;\n",
              "      width: 32px;\n",
              "    }\n",
              "\n",
              "    .colab-df-convert:hover {\n",
              "      background-color: #E2EBFA;\n",
              "      box-shadow: 0px 1px 2px rgba(60, 64, 67, 0.3), 0px 1px 3px 1px rgba(60, 64, 67, 0.15);\n",
              "      fill: #174EA6;\n",
              "    }\n",
              "\n",
              "    .colab-df-buttons div {\n",
              "      margin-bottom: 4px;\n",
              "    }\n",
              "\n",
              "    [theme=dark] .colab-df-convert {\n",
              "      background-color: #3B4455;\n",
              "      fill: #D2E3FC;\n",
              "    }\n",
              "\n",
              "    [theme=dark] .colab-df-convert:hover {\n",
              "      background-color: #434B5C;\n",
              "      box-shadow: 0px 1px 3px 1px rgba(0, 0, 0, 0.15);\n",
              "      filter: drop-shadow(0px 1px 2px rgba(0, 0, 0, 0.3));\n",
              "      fill: #FFFFFF;\n",
              "    }\n",
              "  </style>\n",
              "\n",
              "    <script>\n",
              "      const buttonEl =\n",
              "        document.querySelector('#df-7600be19-f946-416c-991f-e6419e379935 button.colab-df-convert');\n",
              "      buttonEl.style.display =\n",
              "        google.colab.kernel.accessAllowed ? 'block' : 'none';\n",
              "\n",
              "      async function convertToInteractive(key) {\n",
              "        const element = document.querySelector('#df-7600be19-f946-416c-991f-e6419e379935');\n",
              "        const dataTable =\n",
              "          await google.colab.kernel.invokeFunction('convertToInteractive',\n",
              "                                                    [key], {});\n",
              "        if (!dataTable) return;\n",
              "\n",
              "        const docLinkHtml = 'Like what you see? Visit the ' +\n",
              "          '<a target=\"_blank\" href=https://colab.research.google.com/notebooks/data_table.ipynb>data table notebook</a>'\n",
              "          + ' to learn more about interactive tables.';\n",
              "        element.innerHTML = '';\n",
              "        dataTable['output_type'] = 'display_data';\n",
              "        await google.colab.output.renderOutput(dataTable, element);\n",
              "        const docLink = document.createElement('div');\n",
              "        docLink.innerHTML = docLinkHtml;\n",
              "        element.appendChild(docLink);\n",
              "      }\n",
              "    </script>\n",
              "  </div>\n",
              "\n",
              "\n",
              "<div id=\"df-17134194-a0e5-47c6-b49e-e29b21ea9d53\">\n",
              "  <button class=\"colab-df-quickchart\" onclick=\"quickchart('df-17134194-a0e5-47c6-b49e-e29b21ea9d53')\"\n",
              "            title=\"Suggest charts.\"\n",
              "            style=\"display:none;\">\n",
              "\n",
              "<svg xmlns=\"http://www.w3.org/2000/svg\" height=\"24px\"viewBox=\"0 0 24 24\"\n",
              "     width=\"24px\">\n",
              "    <g>\n",
              "        <path d=\"M19 3H5c-1.1 0-2 .9-2 2v14c0 1.1.9 2 2 2h14c1.1 0 2-.9 2-2V5c0-1.1-.9-2-2-2zM9 17H7v-7h2v7zm4 0h-2V7h2v10zm4 0h-2v-4h2v4z\"/>\n",
              "    </g>\n",
              "</svg>\n",
              "  </button>\n",
              "\n",
              "<style>\n",
              "  .colab-df-quickchart {\n",
              "      --bg-color: #E8F0FE;\n",
              "      --fill-color: #1967D2;\n",
              "      --hover-bg-color: #E2EBFA;\n",
              "      --hover-fill-color: #174EA6;\n",
              "      --disabled-fill-color: #AAA;\n",
              "      --disabled-bg-color: #DDD;\n",
              "  }\n",
              "\n",
              "  [theme=dark] .colab-df-quickchart {\n",
              "      --bg-color: #3B4455;\n",
              "      --fill-color: #D2E3FC;\n",
              "      --hover-bg-color: #434B5C;\n",
              "      --hover-fill-color: #FFFFFF;\n",
              "      --disabled-bg-color: #3B4455;\n",
              "      --disabled-fill-color: #666;\n",
              "  }\n",
              "\n",
              "  .colab-df-quickchart {\n",
              "    background-color: var(--bg-color);\n",
              "    border: none;\n",
              "    border-radius: 50%;\n",
              "    cursor: pointer;\n",
              "    display: none;\n",
              "    fill: var(--fill-color);\n",
              "    height: 32px;\n",
              "    padding: 0;\n",
              "    width: 32px;\n",
              "  }\n",
              "\n",
              "  .colab-df-quickchart:hover {\n",
              "    background-color: var(--hover-bg-color);\n",
              "    box-shadow: 0 1px 2px rgba(60, 64, 67, 0.3), 0 1px 3px 1px rgba(60, 64, 67, 0.15);\n",
              "    fill: var(--button-hover-fill-color);\n",
              "  }\n",
              "\n",
              "  .colab-df-quickchart-complete:disabled,\n",
              "  .colab-df-quickchart-complete:disabled:hover {\n",
              "    background-color: var(--disabled-bg-color);\n",
              "    fill: var(--disabled-fill-color);\n",
              "    box-shadow: none;\n",
              "  }\n",
              "\n",
              "  .colab-df-spinner {\n",
              "    border: 2px solid var(--fill-color);\n",
              "    border-color: transparent;\n",
              "    border-bottom-color: var(--fill-color);\n",
              "    animation:\n",
              "      spin 1s steps(1) infinite;\n",
              "  }\n",
              "\n",
              "  @keyframes spin {\n",
              "    0% {\n",
              "      border-color: transparent;\n",
              "      border-bottom-color: var(--fill-color);\n",
              "      border-left-color: var(--fill-color);\n",
              "    }\n",
              "    20% {\n",
              "      border-color: transparent;\n",
              "      border-left-color: var(--fill-color);\n",
              "      border-top-color: var(--fill-color);\n",
              "    }\n",
              "    30% {\n",
              "      border-color: transparent;\n",
              "      border-left-color: var(--fill-color);\n",
              "      border-top-color: var(--fill-color);\n",
              "      border-right-color: var(--fill-color);\n",
              "    }\n",
              "    40% {\n",
              "      border-color: transparent;\n",
              "      border-right-color: var(--fill-color);\n",
              "      border-top-color: var(--fill-color);\n",
              "    }\n",
              "    60% {\n",
              "      border-color: transparent;\n",
              "      border-right-color: var(--fill-color);\n",
              "    }\n",
              "    80% {\n",
              "      border-color: transparent;\n",
              "      border-right-color: var(--fill-color);\n",
              "      border-bottom-color: var(--fill-color);\n",
              "    }\n",
              "    90% {\n",
              "      border-color: transparent;\n",
              "      border-bottom-color: var(--fill-color);\n",
              "    }\n",
              "  }\n",
              "</style>\n",
              "\n",
              "  <script>\n",
              "    async function quickchart(key) {\n",
              "      const quickchartButtonEl =\n",
              "        document.querySelector('#' + key + ' button');\n",
              "      quickchartButtonEl.disabled = true;  // To prevent multiple clicks.\n",
              "      quickchartButtonEl.classList.add('colab-df-spinner');\n",
              "      try {\n",
              "        const charts = await google.colab.kernel.invokeFunction(\n",
              "            'suggestCharts', [key], {});\n",
              "      } catch (error) {\n",
              "        console.error('Error during call to suggestCharts:', error);\n",
              "      }\n",
              "      quickchartButtonEl.classList.remove('colab-df-spinner');\n",
              "      quickchartButtonEl.classList.add('colab-df-quickchart-complete');\n",
              "    }\n",
              "    (() => {\n",
              "      let quickchartButtonEl =\n",
              "        document.querySelector('#df-17134194-a0e5-47c6-b49e-e29b21ea9d53 button');\n",
              "      quickchartButtonEl.style.display =\n",
              "        google.colab.kernel.accessAllowed ? 'block' : 'none';\n",
              "    })();\n",
              "  </script>\n",
              "</div>\n",
              "    </div>\n",
              "  </div>\n"
            ]
          },
          "metadata": {},
          "execution_count": 25
        }
      ],
      "source": [
        "# Training Dataset\n",
        "data1 = pd.read_csv(\"/content/drive/MyDrive/veriag/dataset/Bot_iot_DDoS_new.csv\")\n",
        "data2 = pd.read_csv(\"/content/drive/MyDrive/veriag/dataset/Bot_iot_DoS_new.csv\")\n",
        "data3 = pd.read_csv(\"/content/drive/MyDrive/veriag/dataset/Bot_iot_scanning.csv\")\n",
        "data4 = pd.read_csv(\"/content/drive/MyDrive/veriag/dataset/Ton_iot_DDoS_new.csv\", index_col=False)\n",
        "data5 = pd.read_csv(\"/content/drive/MyDrive/veriag/dataset/Ton_iot_DoS.csv\")\n",
        "data6 = pd.read_csv(\"/content/drive/MyDrive/veriag/dataset/Ton_iot_scanning_new.csv\", index_col=False)\n",
        "data1.head()\n"
      ]
    },
    {
      "cell_type": "code",
      "execution_count": null,
      "metadata": {
        "id": "0MuiVvllY8I2"
      },
      "outputs": [],
      "source": [
        "merged = pd.concat([data1, data2,data3,data4,data5,data6])"
      ]
    },
    {
      "cell_type": "code",
      "execution_count": null,
      "metadata": {
        "colab": {
          "base_uri": "https://localhost:8080/",
          "height": 273
        },
        "id": "52Z2DaKeTFVB",
        "outputId": "e7fe0b79-eb5a-4f06-8630-3a205ba0cb91"
      },
      "outputs": [
        {
          "output_type": "execute_result",
          "data": {
            "text/plain": [
              "   Unnamed: 0          ts  flow_duration  Header_Length       Source IP  \\\n",
              "0           0  1528095664       0.000000           1112  192.168.100.46   \n",
              "1           1  1528095664       0.000000           1405  192.168.100.55   \n",
              "2           2  1528095664       0.000005           2591   192.168.100.3   \n",
              "3           3  1528095664       0.000000            777  192.168.100.46   \n",
              "4           4  1528095664       0.003423           1709   192.168.100.5   \n",
              "\n",
              "   Destination IP  Source Port  Destination Port  Protocol Type  Unnamed: 9  \\\n",
              "0   192.168.100.5         3456                80             17         NaN   \n",
              "1   192.168.100.3         8080                80              6         NaN   \n",
              "2  192.168.100.55           80              8080              6         NaN   \n",
              "3   192.168.100.5           80                80             17         NaN   \n",
              "4  192.168.100.46           80              3456             17         NaN   \n",
              "\n",
              "   ...  wifi_dst  Sequence number  Protocol Version  flow_idle_time  \\\n",
              "0  ...         0                0                 0    1.528096e+09   \n",
              "1  ...         0                0                 0    1.528096e+09   \n",
              "2  ...         0                0                 0    5.010000e-06   \n",
              "3  ...         0                0                 0    1.528096e+09   \n",
              "4  ...         0                0                 0    3.422976e-03   \n",
              "\n",
              "   flow_active_time  Correlation  RARP  category  Protocol_name  label  \n",
              "0          0.000000          0.0     0      Ddos            UDP  111.0  \n",
              "1          0.000000          0.0     0      Ddos            TCP  112.0  \n",
              "2          0.000005          0.0     0      Ddos            TCP  112.0  \n",
              "3          0.000000          0.0     0      Ddos            UDP  111.0  \n",
              "4          0.003423          0.0     0      Ddos            UDP  111.0  \n",
              "\n",
              "[5 rows x 96 columns]"
            ],
            "text/html": [
              "\n",
              "  <div id=\"df-4916c5dc-04f3-4f85-bc6d-87b88a55c72b\" class=\"colab-df-container\">\n",
              "    <div>\n",
              "<style scoped>\n",
              "    .dataframe tbody tr th:only-of-type {\n",
              "        vertical-align: middle;\n",
              "    }\n",
              "\n",
              "    .dataframe tbody tr th {\n",
              "        vertical-align: top;\n",
              "    }\n",
              "\n",
              "    .dataframe thead th {\n",
              "        text-align: right;\n",
              "    }\n",
              "</style>\n",
              "<table border=\"1\" class=\"dataframe\">\n",
              "  <thead>\n",
              "    <tr style=\"text-align: right;\">\n",
              "      <th></th>\n",
              "      <th>Unnamed: 0</th>\n",
              "      <th>ts</th>\n",
              "      <th>flow_duration</th>\n",
              "      <th>Header_Length</th>\n",
              "      <th>Source IP</th>\n",
              "      <th>Destination IP</th>\n",
              "      <th>Source Port</th>\n",
              "      <th>Destination Port</th>\n",
              "      <th>Protocol Type</th>\n",
              "      <th>Unnamed: 9</th>\n",
              "      <th>...</th>\n",
              "      <th>wifi_dst</th>\n",
              "      <th>Sequence number</th>\n",
              "      <th>Protocol Version</th>\n",
              "      <th>flow_idle_time</th>\n",
              "      <th>flow_active_time</th>\n",
              "      <th>Correlation</th>\n",
              "      <th>RARP</th>\n",
              "      <th>category</th>\n",
              "      <th>Protocol_name</th>\n",
              "      <th>label</th>\n",
              "    </tr>\n",
              "  </thead>\n",
              "  <tbody>\n",
              "    <tr>\n",
              "      <th>0</th>\n",
              "      <td>0</td>\n",
              "      <td>1528095664</td>\n",
              "      <td>0.000000</td>\n",
              "      <td>1112</td>\n",
              "      <td>192.168.100.46</td>\n",
              "      <td>192.168.100.5</td>\n",
              "      <td>3456</td>\n",
              "      <td>80</td>\n",
              "      <td>17</td>\n",
              "      <td>NaN</td>\n",
              "      <td>...</td>\n",
              "      <td>0</td>\n",
              "      <td>0</td>\n",
              "      <td>0</td>\n",
              "      <td>1.528096e+09</td>\n",
              "      <td>0.000000</td>\n",
              "      <td>0.0</td>\n",
              "      <td>0</td>\n",
              "      <td>Ddos</td>\n",
              "      <td>UDP</td>\n",
              "      <td>111.0</td>\n",
              "    </tr>\n",
              "    <tr>\n",
              "      <th>1</th>\n",
              "      <td>1</td>\n",
              "      <td>1528095664</td>\n",
              "      <td>0.000000</td>\n",
              "      <td>1405</td>\n",
              "      <td>192.168.100.55</td>\n",
              "      <td>192.168.100.3</td>\n",
              "      <td>8080</td>\n",
              "      <td>80</td>\n",
              "      <td>6</td>\n",
              "      <td>NaN</td>\n",
              "      <td>...</td>\n",
              "      <td>0</td>\n",
              "      <td>0</td>\n",
              "      <td>0</td>\n",
              "      <td>1.528096e+09</td>\n",
              "      <td>0.000000</td>\n",
              "      <td>0.0</td>\n",
              "      <td>0</td>\n",
              "      <td>Ddos</td>\n",
              "      <td>TCP</td>\n",
              "      <td>112.0</td>\n",
              "    </tr>\n",
              "    <tr>\n",
              "      <th>2</th>\n",
              "      <td>2</td>\n",
              "      <td>1528095664</td>\n",
              "      <td>0.000005</td>\n",
              "      <td>2591</td>\n",
              "      <td>192.168.100.3</td>\n",
              "      <td>192.168.100.55</td>\n",
              "      <td>80</td>\n",
              "      <td>8080</td>\n",
              "      <td>6</td>\n",
              "      <td>NaN</td>\n",
              "      <td>...</td>\n",
              "      <td>0</td>\n",
              "      <td>0</td>\n",
              "      <td>0</td>\n",
              "      <td>5.010000e-06</td>\n",
              "      <td>0.000005</td>\n",
              "      <td>0.0</td>\n",
              "      <td>0</td>\n",
              "      <td>Ddos</td>\n",
              "      <td>TCP</td>\n",
              "      <td>112.0</td>\n",
              "    </tr>\n",
              "    <tr>\n",
              "      <th>3</th>\n",
              "      <td>3</td>\n",
              "      <td>1528095664</td>\n",
              "      <td>0.000000</td>\n",
              "      <td>777</td>\n",
              "      <td>192.168.100.46</td>\n",
              "      <td>192.168.100.5</td>\n",
              "      <td>80</td>\n",
              "      <td>80</td>\n",
              "      <td>17</td>\n",
              "      <td>NaN</td>\n",
              "      <td>...</td>\n",
              "      <td>0</td>\n",
              "      <td>0</td>\n",
              "      <td>0</td>\n",
              "      <td>1.528096e+09</td>\n",
              "      <td>0.000000</td>\n",
              "      <td>0.0</td>\n",
              "      <td>0</td>\n",
              "      <td>Ddos</td>\n",
              "      <td>UDP</td>\n",
              "      <td>111.0</td>\n",
              "    </tr>\n",
              "    <tr>\n",
              "      <th>4</th>\n",
              "      <td>4</td>\n",
              "      <td>1528095664</td>\n",
              "      <td>0.003423</td>\n",
              "      <td>1709</td>\n",
              "      <td>192.168.100.5</td>\n",
              "      <td>192.168.100.46</td>\n",
              "      <td>80</td>\n",
              "      <td>3456</td>\n",
              "      <td>17</td>\n",
              "      <td>NaN</td>\n",
              "      <td>...</td>\n",
              "      <td>0</td>\n",
              "      <td>0</td>\n",
              "      <td>0</td>\n",
              "      <td>3.422976e-03</td>\n",
              "      <td>0.003423</td>\n",
              "      <td>0.0</td>\n",
              "      <td>0</td>\n",
              "      <td>Ddos</td>\n",
              "      <td>UDP</td>\n",
              "      <td>111.0</td>\n",
              "    </tr>\n",
              "  </tbody>\n",
              "</table>\n",
              "<p>5 rows × 96 columns</p>\n",
              "</div>\n",
              "    <div class=\"colab-df-buttons\">\n",
              "\n",
              "  <div class=\"colab-df-container\">\n",
              "    <button class=\"colab-df-convert\" onclick=\"convertToInteractive('df-4916c5dc-04f3-4f85-bc6d-87b88a55c72b')\"\n",
              "            title=\"Convert this dataframe to an interactive table.\"\n",
              "            style=\"display:none;\">\n",
              "\n",
              "  <svg xmlns=\"http://www.w3.org/2000/svg\" height=\"24px\" viewBox=\"0 -960 960 960\">\n",
              "    <path d=\"M120-120v-720h720v720H120Zm60-500h600v-160H180v160Zm220 220h160v-160H400v160Zm0 220h160v-160H400v160ZM180-400h160v-160H180v160Zm440 0h160v-160H620v160ZM180-180h160v-160H180v160Zm440 0h160v-160H620v160Z\"/>\n",
              "  </svg>\n",
              "    </button>\n",
              "\n",
              "  <style>\n",
              "    .colab-df-container {\n",
              "      display:flex;\n",
              "      gap: 12px;\n",
              "    }\n",
              "\n",
              "    .colab-df-convert {\n",
              "      background-color: #E8F0FE;\n",
              "      border: none;\n",
              "      border-radius: 50%;\n",
              "      cursor: pointer;\n",
              "      display: none;\n",
              "      fill: #1967D2;\n",
              "      height: 32px;\n",
              "      padding: 0 0 0 0;\n",
              "      width: 32px;\n",
              "    }\n",
              "\n",
              "    .colab-df-convert:hover {\n",
              "      background-color: #E2EBFA;\n",
              "      box-shadow: 0px 1px 2px rgba(60, 64, 67, 0.3), 0px 1px 3px 1px rgba(60, 64, 67, 0.15);\n",
              "      fill: #174EA6;\n",
              "    }\n",
              "\n",
              "    .colab-df-buttons div {\n",
              "      margin-bottom: 4px;\n",
              "    }\n",
              "\n",
              "    [theme=dark] .colab-df-convert {\n",
              "      background-color: #3B4455;\n",
              "      fill: #D2E3FC;\n",
              "    }\n",
              "\n",
              "    [theme=dark] .colab-df-convert:hover {\n",
              "      background-color: #434B5C;\n",
              "      box-shadow: 0px 1px 3px 1px rgba(0, 0, 0, 0.15);\n",
              "      filter: drop-shadow(0px 1px 2px rgba(0, 0, 0, 0.3));\n",
              "      fill: #FFFFFF;\n",
              "    }\n",
              "  </style>\n",
              "\n",
              "    <script>\n",
              "      const buttonEl =\n",
              "        document.querySelector('#df-4916c5dc-04f3-4f85-bc6d-87b88a55c72b button.colab-df-convert');\n",
              "      buttonEl.style.display =\n",
              "        google.colab.kernel.accessAllowed ? 'block' : 'none';\n",
              "\n",
              "      async function convertToInteractive(key) {\n",
              "        const element = document.querySelector('#df-4916c5dc-04f3-4f85-bc6d-87b88a55c72b');\n",
              "        const dataTable =\n",
              "          await google.colab.kernel.invokeFunction('convertToInteractive',\n",
              "                                                    [key], {});\n",
              "        if (!dataTable) return;\n",
              "\n",
              "        const docLinkHtml = 'Like what you see? Visit the ' +\n",
              "          '<a target=\"_blank\" href=https://colab.research.google.com/notebooks/data_table.ipynb>data table notebook</a>'\n",
              "          + ' to learn more about interactive tables.';\n",
              "        element.innerHTML = '';\n",
              "        dataTable['output_type'] = 'display_data';\n",
              "        await google.colab.output.renderOutput(dataTable, element);\n",
              "        const docLink = document.createElement('div');\n",
              "        docLink.innerHTML = docLinkHtml;\n",
              "        element.appendChild(docLink);\n",
              "      }\n",
              "    </script>\n",
              "  </div>\n",
              "\n",
              "\n",
              "<div id=\"df-c38def30-8dd0-43b0-8be8-8ed031b54907\">\n",
              "  <button class=\"colab-df-quickchart\" onclick=\"quickchart('df-c38def30-8dd0-43b0-8be8-8ed031b54907')\"\n",
              "            title=\"Suggest charts.\"\n",
              "            style=\"display:none;\">\n",
              "\n",
              "<svg xmlns=\"http://www.w3.org/2000/svg\" height=\"24px\"viewBox=\"0 0 24 24\"\n",
              "     width=\"24px\">\n",
              "    <g>\n",
              "        <path d=\"M19 3H5c-1.1 0-2 .9-2 2v14c0 1.1.9 2 2 2h14c1.1 0 2-.9 2-2V5c0-1.1-.9-2-2-2zM9 17H7v-7h2v7zm4 0h-2V7h2v10zm4 0h-2v-4h2v4z\"/>\n",
              "    </g>\n",
              "</svg>\n",
              "  </button>\n",
              "\n",
              "<style>\n",
              "  .colab-df-quickchart {\n",
              "      --bg-color: #E8F0FE;\n",
              "      --fill-color: #1967D2;\n",
              "      --hover-bg-color: #E2EBFA;\n",
              "      --hover-fill-color: #174EA6;\n",
              "      --disabled-fill-color: #AAA;\n",
              "      --disabled-bg-color: #DDD;\n",
              "  }\n",
              "\n",
              "  [theme=dark] .colab-df-quickchart {\n",
              "      --bg-color: #3B4455;\n",
              "      --fill-color: #D2E3FC;\n",
              "      --hover-bg-color: #434B5C;\n",
              "      --hover-fill-color: #FFFFFF;\n",
              "      --disabled-bg-color: #3B4455;\n",
              "      --disabled-fill-color: #666;\n",
              "  }\n",
              "\n",
              "  .colab-df-quickchart {\n",
              "    background-color: var(--bg-color);\n",
              "    border: none;\n",
              "    border-radius: 50%;\n",
              "    cursor: pointer;\n",
              "    display: none;\n",
              "    fill: var(--fill-color);\n",
              "    height: 32px;\n",
              "    padding: 0;\n",
              "    width: 32px;\n",
              "  }\n",
              "\n",
              "  .colab-df-quickchart:hover {\n",
              "    background-color: var(--hover-bg-color);\n",
              "    box-shadow: 0 1px 2px rgba(60, 64, 67, 0.3), 0 1px 3px 1px rgba(60, 64, 67, 0.15);\n",
              "    fill: var(--button-hover-fill-color);\n",
              "  }\n",
              "\n",
              "  .colab-df-quickchart-complete:disabled,\n",
              "  .colab-df-quickchart-complete:disabled:hover {\n",
              "    background-color: var(--disabled-bg-color);\n",
              "    fill: var(--disabled-fill-color);\n",
              "    box-shadow: none;\n",
              "  }\n",
              "\n",
              "  .colab-df-spinner {\n",
              "    border: 2px solid var(--fill-color);\n",
              "    border-color: transparent;\n",
              "    border-bottom-color: var(--fill-color);\n",
              "    animation:\n",
              "      spin 1s steps(1) infinite;\n",
              "  }\n",
              "\n",
              "  @keyframes spin {\n",
              "    0% {\n",
              "      border-color: transparent;\n",
              "      border-bottom-color: var(--fill-color);\n",
              "      border-left-color: var(--fill-color);\n",
              "    }\n",
              "    20% {\n",
              "      border-color: transparent;\n",
              "      border-left-color: var(--fill-color);\n",
              "      border-top-color: var(--fill-color);\n",
              "    }\n",
              "    30% {\n",
              "      border-color: transparent;\n",
              "      border-left-color: var(--fill-color);\n",
              "      border-top-color: var(--fill-color);\n",
              "      border-right-color: var(--fill-color);\n",
              "    }\n",
              "    40% {\n",
              "      border-color: transparent;\n",
              "      border-right-color: var(--fill-color);\n",
              "      border-top-color: var(--fill-color);\n",
              "    }\n",
              "    60% {\n",
              "      border-color: transparent;\n",
              "      border-right-color: var(--fill-color);\n",
              "    }\n",
              "    80% {\n",
              "      border-color: transparent;\n",
              "      border-right-color: var(--fill-color);\n",
              "      border-bottom-color: var(--fill-color);\n",
              "    }\n",
              "    90% {\n",
              "      border-color: transparent;\n",
              "      border-bottom-color: var(--fill-color);\n",
              "    }\n",
              "  }\n",
              "</style>\n",
              "\n",
              "  <script>\n",
              "    async function quickchart(key) {\n",
              "      const quickchartButtonEl =\n",
              "        document.querySelector('#' + key + ' button');\n",
              "      quickchartButtonEl.disabled = true;  // To prevent multiple clicks.\n",
              "      quickchartButtonEl.classList.add('colab-df-spinner');\n",
              "      try {\n",
              "        const charts = await google.colab.kernel.invokeFunction(\n",
              "            'suggestCharts', [key], {});\n",
              "      } catch (error) {\n",
              "        console.error('Error during call to suggestCharts:', error);\n",
              "      }\n",
              "      quickchartButtonEl.classList.remove('colab-df-spinner');\n",
              "      quickchartButtonEl.classList.add('colab-df-quickchart-complete');\n",
              "    }\n",
              "    (() => {\n",
              "      let quickchartButtonEl =\n",
              "        document.querySelector('#df-c38def30-8dd0-43b0-8be8-8ed031b54907 button');\n",
              "      quickchartButtonEl.style.display =\n",
              "        google.colab.kernel.accessAllowed ? 'block' : 'none';\n",
              "    })();\n",
              "  </script>\n",
              "</div>\n",
              "    </div>\n",
              "  </div>\n"
            ]
          },
          "metadata": {},
          "execution_count": 27
        }
      ],
      "source": [
        "merged.columns.str.match(\"Unnamed\" ,\"NaN\")\n",
        "cleaned= merged.loc[:,~merged.columns.str.match(\"Unnamed\", \"NaN\")]\n",
        "merged.head()"
      ]
    },
    {
      "cell_type": "code",
      "execution_count": null,
      "metadata": {
        "id": "AFIvqR2bNccr"
      },
      "outputs": [],
      "source": [
        "cleaned['rst_count'].value_counts()"
      ]
    },
    {
      "cell_type": "code",
      "execution_count": null,
      "metadata": {
        "colab": {
          "base_uri": "https://localhost:8080/"
        },
        "id": "iyYefYaJAaSb",
        "outputId": "582085d2-4873-4023-917f-099df995fd70"
      },
      "outputs": [
        {
          "data": {
            "text/plain": [
              "0    52137\n",
              "Name: CoAP, dtype: int64"
            ]
          },
          "execution_count": 147,
          "metadata": {},
          "output_type": "execute_result"
        }
      ],
      "source": [
        "cleaned['CoAP'].value_counts()"
      ]
    },
    {
      "cell_type": "code",
      "execution_count": null,
      "metadata": {
        "colab": {
          "base_uri": "https://localhost:8080/",
          "height": 273
        },
        "id": "dhMno6eIkbHG",
        "outputId": "db5fad21-5c5b-4ba5-f87b-656217fa01bb"
      },
      "outputs": [
        {
          "output_type": "execute_result",
          "data": {
            "text/plain": [
              "   Unnamed: 0          ts  flow_duration  Header_Length       Source IP  \\\n",
              "0           0  1528095664       0.000000           1112  192.168.100.46   \n",
              "1           1  1528095664       0.000000           1405  192.168.100.55   \n",
              "2           2  1528095664       0.000005           2591   192.168.100.3   \n",
              "3           3  1528095664       0.000000            777  192.168.100.46   \n",
              "4           4  1528095664       0.003423           1709   192.168.100.5   \n",
              "\n",
              "   Destination IP  Source Port  Destination Port  Protocol Type  Duration  \\\n",
              "0   192.168.100.5         3456                80             17       127   \n",
              "1   192.168.100.3         8080                80              6       127   \n",
              "2  192.168.100.55           80              8080              6       127   \n",
              "3   192.168.100.5           80                80             17       127   \n",
              "4  192.168.100.46           80              3456             17       127   \n",
              "\n",
              "   ...  wifi_dst  Sequence number  Protocol Version  flow_idle_time  \\\n",
              "0  ...         0                0                 0    1.528096e+09   \n",
              "1  ...         0                0                 0    1.528096e+09   \n",
              "2  ...         0                0                 0    5.010000e-06   \n",
              "3  ...         0                0                 0    1.528096e+09   \n",
              "4  ...         0                0                 0    3.422976e-03   \n",
              "\n",
              "   flow_active_time  Correlation  RARP  category  Protocol_name  label  \n",
              "0          0.000000          0.0     0      Ddos            UDP  111.0  \n",
              "1          0.000000          0.0     0      Ddos            TCP  112.0  \n",
              "2          0.000005          0.0     0      Ddos            TCP  112.0  \n",
              "3          0.000000          0.0     0      Ddos            UDP  111.0  \n",
              "4          0.003423          0.0     0      Ddos            UDP  111.0  \n",
              "\n",
              "[5 rows x 95 columns]"
            ],
            "text/html": [
              "\n",
              "  <div id=\"df-73ecb586-3eab-4e1b-ae7a-ac8a5de34e0e\" class=\"colab-df-container\">\n",
              "    <div>\n",
              "<style scoped>\n",
              "    .dataframe tbody tr th:only-of-type {\n",
              "        vertical-align: middle;\n",
              "    }\n",
              "\n",
              "    .dataframe tbody tr th {\n",
              "        vertical-align: top;\n",
              "    }\n",
              "\n",
              "    .dataframe thead th {\n",
              "        text-align: right;\n",
              "    }\n",
              "</style>\n",
              "<table border=\"1\" class=\"dataframe\">\n",
              "  <thead>\n",
              "    <tr style=\"text-align: right;\">\n",
              "      <th></th>\n",
              "      <th>Unnamed: 0</th>\n",
              "      <th>ts</th>\n",
              "      <th>flow_duration</th>\n",
              "      <th>Header_Length</th>\n",
              "      <th>Source IP</th>\n",
              "      <th>Destination IP</th>\n",
              "      <th>Source Port</th>\n",
              "      <th>Destination Port</th>\n",
              "      <th>Protocol Type</th>\n",
              "      <th>Duration</th>\n",
              "      <th>...</th>\n",
              "      <th>wifi_dst</th>\n",
              "      <th>Sequence number</th>\n",
              "      <th>Protocol Version</th>\n",
              "      <th>flow_idle_time</th>\n",
              "      <th>flow_active_time</th>\n",
              "      <th>Correlation</th>\n",
              "      <th>RARP</th>\n",
              "      <th>category</th>\n",
              "      <th>Protocol_name</th>\n",
              "      <th>label</th>\n",
              "    </tr>\n",
              "  </thead>\n",
              "  <tbody>\n",
              "    <tr>\n",
              "      <th>0</th>\n",
              "      <td>0</td>\n",
              "      <td>1528095664</td>\n",
              "      <td>0.000000</td>\n",
              "      <td>1112</td>\n",
              "      <td>192.168.100.46</td>\n",
              "      <td>192.168.100.5</td>\n",
              "      <td>3456</td>\n",
              "      <td>80</td>\n",
              "      <td>17</td>\n",
              "      <td>127</td>\n",
              "      <td>...</td>\n",
              "      <td>0</td>\n",
              "      <td>0</td>\n",
              "      <td>0</td>\n",
              "      <td>1.528096e+09</td>\n",
              "      <td>0.000000</td>\n",
              "      <td>0.0</td>\n",
              "      <td>0</td>\n",
              "      <td>Ddos</td>\n",
              "      <td>UDP</td>\n",
              "      <td>111.0</td>\n",
              "    </tr>\n",
              "    <tr>\n",
              "      <th>1</th>\n",
              "      <td>1</td>\n",
              "      <td>1528095664</td>\n",
              "      <td>0.000000</td>\n",
              "      <td>1405</td>\n",
              "      <td>192.168.100.55</td>\n",
              "      <td>192.168.100.3</td>\n",
              "      <td>8080</td>\n",
              "      <td>80</td>\n",
              "      <td>6</td>\n",
              "      <td>127</td>\n",
              "      <td>...</td>\n",
              "      <td>0</td>\n",
              "      <td>0</td>\n",
              "      <td>0</td>\n",
              "      <td>1.528096e+09</td>\n",
              "      <td>0.000000</td>\n",
              "      <td>0.0</td>\n",
              "      <td>0</td>\n",
              "      <td>Ddos</td>\n",
              "      <td>TCP</td>\n",
              "      <td>112.0</td>\n",
              "    </tr>\n",
              "    <tr>\n",
              "      <th>2</th>\n",
              "      <td>2</td>\n",
              "      <td>1528095664</td>\n",
              "      <td>0.000005</td>\n",
              "      <td>2591</td>\n",
              "      <td>192.168.100.3</td>\n",
              "      <td>192.168.100.55</td>\n",
              "      <td>80</td>\n",
              "      <td>8080</td>\n",
              "      <td>6</td>\n",
              "      <td>127</td>\n",
              "      <td>...</td>\n",
              "      <td>0</td>\n",
              "      <td>0</td>\n",
              "      <td>0</td>\n",
              "      <td>5.010000e-06</td>\n",
              "      <td>0.000005</td>\n",
              "      <td>0.0</td>\n",
              "      <td>0</td>\n",
              "      <td>Ddos</td>\n",
              "      <td>TCP</td>\n",
              "      <td>112.0</td>\n",
              "    </tr>\n",
              "    <tr>\n",
              "      <th>3</th>\n",
              "      <td>3</td>\n",
              "      <td>1528095664</td>\n",
              "      <td>0.000000</td>\n",
              "      <td>777</td>\n",
              "      <td>192.168.100.46</td>\n",
              "      <td>192.168.100.5</td>\n",
              "      <td>80</td>\n",
              "      <td>80</td>\n",
              "      <td>17</td>\n",
              "      <td>127</td>\n",
              "      <td>...</td>\n",
              "      <td>0</td>\n",
              "      <td>0</td>\n",
              "      <td>0</td>\n",
              "      <td>1.528096e+09</td>\n",
              "      <td>0.000000</td>\n",
              "      <td>0.0</td>\n",
              "      <td>0</td>\n",
              "      <td>Ddos</td>\n",
              "      <td>UDP</td>\n",
              "      <td>111.0</td>\n",
              "    </tr>\n",
              "    <tr>\n",
              "      <th>4</th>\n",
              "      <td>4</td>\n",
              "      <td>1528095664</td>\n",
              "      <td>0.003423</td>\n",
              "      <td>1709</td>\n",
              "      <td>192.168.100.5</td>\n",
              "      <td>192.168.100.46</td>\n",
              "      <td>80</td>\n",
              "      <td>3456</td>\n",
              "      <td>17</td>\n",
              "      <td>127</td>\n",
              "      <td>...</td>\n",
              "      <td>0</td>\n",
              "      <td>0</td>\n",
              "      <td>0</td>\n",
              "      <td>3.422976e-03</td>\n",
              "      <td>0.003423</td>\n",
              "      <td>0.0</td>\n",
              "      <td>0</td>\n",
              "      <td>Ddos</td>\n",
              "      <td>UDP</td>\n",
              "      <td>111.0</td>\n",
              "    </tr>\n",
              "  </tbody>\n",
              "</table>\n",
              "<p>5 rows × 95 columns</p>\n",
              "</div>\n",
              "    <div class=\"colab-df-buttons\">\n",
              "\n",
              "  <div class=\"colab-df-container\">\n",
              "    <button class=\"colab-df-convert\" onclick=\"convertToInteractive('df-73ecb586-3eab-4e1b-ae7a-ac8a5de34e0e')\"\n",
              "            title=\"Convert this dataframe to an interactive table.\"\n",
              "            style=\"display:none;\">\n",
              "\n",
              "  <svg xmlns=\"http://www.w3.org/2000/svg\" height=\"24px\" viewBox=\"0 -960 960 960\">\n",
              "    <path d=\"M120-120v-720h720v720H120Zm60-500h600v-160H180v160Zm220 220h160v-160H400v160Zm0 220h160v-160H400v160ZM180-400h160v-160H180v160Zm440 0h160v-160H620v160ZM180-180h160v-160H180v160Zm440 0h160v-160H620v160Z\"/>\n",
              "  </svg>\n",
              "    </button>\n",
              "\n",
              "  <style>\n",
              "    .colab-df-container {\n",
              "      display:flex;\n",
              "      gap: 12px;\n",
              "    }\n",
              "\n",
              "    .colab-df-convert {\n",
              "      background-color: #E8F0FE;\n",
              "      border: none;\n",
              "      border-radius: 50%;\n",
              "      cursor: pointer;\n",
              "      display: none;\n",
              "      fill: #1967D2;\n",
              "      height: 32px;\n",
              "      padding: 0 0 0 0;\n",
              "      width: 32px;\n",
              "    }\n",
              "\n",
              "    .colab-df-convert:hover {\n",
              "      background-color: #E2EBFA;\n",
              "      box-shadow: 0px 1px 2px rgba(60, 64, 67, 0.3), 0px 1px 3px 1px rgba(60, 64, 67, 0.15);\n",
              "      fill: #174EA6;\n",
              "    }\n",
              "\n",
              "    .colab-df-buttons div {\n",
              "      margin-bottom: 4px;\n",
              "    }\n",
              "\n",
              "    [theme=dark] .colab-df-convert {\n",
              "      background-color: #3B4455;\n",
              "      fill: #D2E3FC;\n",
              "    }\n",
              "\n",
              "    [theme=dark] .colab-df-convert:hover {\n",
              "      background-color: #434B5C;\n",
              "      box-shadow: 0px 1px 3px 1px rgba(0, 0, 0, 0.15);\n",
              "      filter: drop-shadow(0px 1px 2px rgba(0, 0, 0, 0.3));\n",
              "      fill: #FFFFFF;\n",
              "    }\n",
              "  </style>\n",
              "\n",
              "    <script>\n",
              "      const buttonEl =\n",
              "        document.querySelector('#df-73ecb586-3eab-4e1b-ae7a-ac8a5de34e0e button.colab-df-convert');\n",
              "      buttonEl.style.display =\n",
              "        google.colab.kernel.accessAllowed ? 'block' : 'none';\n",
              "\n",
              "      async function convertToInteractive(key) {\n",
              "        const element = document.querySelector('#df-73ecb586-3eab-4e1b-ae7a-ac8a5de34e0e');\n",
              "        const dataTable =\n",
              "          await google.colab.kernel.invokeFunction('convertToInteractive',\n",
              "                                                    [key], {});\n",
              "        if (!dataTable) return;\n",
              "\n",
              "        const docLinkHtml = 'Like what you see? Visit the ' +\n",
              "          '<a target=\"_blank\" href=https://colab.research.google.com/notebooks/data_table.ipynb>data table notebook</a>'\n",
              "          + ' to learn more about interactive tables.';\n",
              "        element.innerHTML = '';\n",
              "        dataTable['output_type'] = 'display_data';\n",
              "        await google.colab.output.renderOutput(dataTable, element);\n",
              "        const docLink = document.createElement('div');\n",
              "        docLink.innerHTML = docLinkHtml;\n",
              "        element.appendChild(docLink);\n",
              "      }\n",
              "    </script>\n",
              "  </div>\n",
              "\n",
              "\n",
              "<div id=\"df-3c6fe574-b59e-4868-bda7-042ca85643f4\">\n",
              "  <button class=\"colab-df-quickchart\" onclick=\"quickchart('df-3c6fe574-b59e-4868-bda7-042ca85643f4')\"\n",
              "            title=\"Suggest charts.\"\n",
              "            style=\"display:none;\">\n",
              "\n",
              "<svg xmlns=\"http://www.w3.org/2000/svg\" height=\"24px\"viewBox=\"0 0 24 24\"\n",
              "     width=\"24px\">\n",
              "    <g>\n",
              "        <path d=\"M19 3H5c-1.1 0-2 .9-2 2v14c0 1.1.9 2 2 2h14c1.1 0 2-.9 2-2V5c0-1.1-.9-2-2-2zM9 17H7v-7h2v7zm4 0h-2V7h2v10zm4 0h-2v-4h2v4z\"/>\n",
              "    </g>\n",
              "</svg>\n",
              "  </button>\n",
              "\n",
              "<style>\n",
              "  .colab-df-quickchart {\n",
              "      --bg-color: #E8F0FE;\n",
              "      --fill-color: #1967D2;\n",
              "      --hover-bg-color: #E2EBFA;\n",
              "      --hover-fill-color: #174EA6;\n",
              "      --disabled-fill-color: #AAA;\n",
              "      --disabled-bg-color: #DDD;\n",
              "  }\n",
              "\n",
              "  [theme=dark] .colab-df-quickchart {\n",
              "      --bg-color: #3B4455;\n",
              "      --fill-color: #D2E3FC;\n",
              "      --hover-bg-color: #434B5C;\n",
              "      --hover-fill-color: #FFFFFF;\n",
              "      --disabled-bg-color: #3B4455;\n",
              "      --disabled-fill-color: #666;\n",
              "  }\n",
              "\n",
              "  .colab-df-quickchart {\n",
              "    background-color: var(--bg-color);\n",
              "    border: none;\n",
              "    border-radius: 50%;\n",
              "    cursor: pointer;\n",
              "    display: none;\n",
              "    fill: var(--fill-color);\n",
              "    height: 32px;\n",
              "    padding: 0;\n",
              "    width: 32px;\n",
              "  }\n",
              "\n",
              "  .colab-df-quickchart:hover {\n",
              "    background-color: var(--hover-bg-color);\n",
              "    box-shadow: 0 1px 2px rgba(60, 64, 67, 0.3), 0 1px 3px 1px rgba(60, 64, 67, 0.15);\n",
              "    fill: var(--button-hover-fill-color);\n",
              "  }\n",
              "\n",
              "  .colab-df-quickchart-complete:disabled,\n",
              "  .colab-df-quickchart-complete:disabled:hover {\n",
              "    background-color: var(--disabled-bg-color);\n",
              "    fill: var(--disabled-fill-color);\n",
              "    box-shadow: none;\n",
              "  }\n",
              "\n",
              "  .colab-df-spinner {\n",
              "    border: 2px solid var(--fill-color);\n",
              "    border-color: transparent;\n",
              "    border-bottom-color: var(--fill-color);\n",
              "    animation:\n",
              "      spin 1s steps(1) infinite;\n",
              "  }\n",
              "\n",
              "  @keyframes spin {\n",
              "    0% {\n",
              "      border-color: transparent;\n",
              "      border-bottom-color: var(--fill-color);\n",
              "      border-left-color: var(--fill-color);\n",
              "    }\n",
              "    20% {\n",
              "      border-color: transparent;\n",
              "      border-left-color: var(--fill-color);\n",
              "      border-top-color: var(--fill-color);\n",
              "    }\n",
              "    30% {\n",
              "      border-color: transparent;\n",
              "      border-left-color: var(--fill-color);\n",
              "      border-top-color: var(--fill-color);\n",
              "      border-right-color: var(--fill-color);\n",
              "    }\n",
              "    40% {\n",
              "      border-color: transparent;\n",
              "      border-right-color: var(--fill-color);\n",
              "      border-top-color: var(--fill-color);\n",
              "    }\n",
              "    60% {\n",
              "      border-color: transparent;\n",
              "      border-right-color: var(--fill-color);\n",
              "    }\n",
              "    80% {\n",
              "      border-color: transparent;\n",
              "      border-right-color: var(--fill-color);\n",
              "      border-bottom-color: var(--fill-color);\n",
              "    }\n",
              "    90% {\n",
              "      border-color: transparent;\n",
              "      border-bottom-color: var(--fill-color);\n",
              "    }\n",
              "  }\n",
              "</style>\n",
              "\n",
              "  <script>\n",
              "    async function quickchart(key) {\n",
              "      const quickchartButtonEl =\n",
              "        document.querySelector('#' + key + ' button');\n",
              "      quickchartButtonEl.disabled = true;  // To prevent multiple clicks.\n",
              "      quickchartButtonEl.classList.add('colab-df-spinner');\n",
              "      try {\n",
              "        const charts = await google.colab.kernel.invokeFunction(\n",
              "            'suggestCharts', [key], {});\n",
              "      } catch (error) {\n",
              "        console.error('Error during call to suggestCharts:', error);\n",
              "      }\n",
              "      quickchartButtonEl.classList.remove('colab-df-spinner');\n",
              "      quickchartButtonEl.classList.add('colab-df-quickchart-complete');\n",
              "    }\n",
              "    (() => {\n",
              "      let quickchartButtonEl =\n",
              "        document.querySelector('#df-3c6fe574-b59e-4868-bda7-042ca85643f4 button');\n",
              "      quickchartButtonEl.style.display =\n",
              "        google.colab.kernel.accessAllowed ? 'block' : 'none';\n",
              "    })();\n",
              "  </script>\n",
              "</div>\n",
              "    </div>\n",
              "  </div>\n"
            ]
          },
          "metadata": {},
          "execution_count": 29
        }
      ],
      "source": [
        "cleaned= merged.dropna(axis=1, how='all')\n",
        "merged.reset_index(drop=True,inplace=True)\n",
        "cleaned.head()"
      ]
    },
    {
      "cell_type": "code",
      "execution_count": null,
      "metadata": {
        "id": "TRkWaRWl5ri5"
      },
      "outputs": [],
      "source": [
        "print(cleaned['wifi_src'])"
      ]
    },
    {
      "cell_type": "code",
      "execution_count": null,
      "metadata": {
        "colab": {
          "base_uri": "https://localhost:8080/"
        },
        "id": "D4btiNJtj6qc",
        "outputId": "cc8a1115-1af8-4c4a-96b9-6ee64a7608a2"
      },
      "outputs": [
        {
          "output_type": "execute_result",
          "data": {
            "text/plain": [
              "30"
            ]
          },
          "metadata": {},
          "execution_count": 30
        }
      ],
      "source": [
        "np.sum(cleaned.isnull().any(axis=1))"
      ]
    },
    {
      "cell_type": "code",
      "execution_count": null,
      "metadata": {
        "id": "pEFqNYBDQocg"
      },
      "outputs": [],
      "source": [
        "cleaned = cleaned.dropna(subset=['label'])"
      ]
    },
    {
      "cell_type": "code",
      "execution_count": null,
      "metadata": {
        "colab": {
          "base_uri": "https://localhost:8080/"
        },
        "id": "1XnS5mXqdMS7",
        "outputId": "6d38e215-adb3-4afd-8fd3-5a8cc0988d04"
      },
      "outputs": [
        {
          "output_type": "execute_result",
          "data": {
            "text/plain": [
              "0"
            ]
          },
          "metadata": {},
          "execution_count": 32
        }
      ],
      "source": [
        "np.sum(cleaned.isnull().any(axis=1))"
      ]
    },
    {
      "cell_type": "code",
      "execution_count": null,
      "metadata": {
        "id": "7CFfQFcy6r1P"
      },
      "outputs": [],
      "source": [
        "cleanedpro=cleaned.loc[:, (cleaned != 0).any(axis=0)]"
      ]
    },
    {
      "cell_type": "code",
      "execution_count": null,
      "metadata": {
        "id": "8_sdy5CDJFLn"
      },
      "outputs": [],
      "source": [
        "cleanedd=cleaned.drop(['N_IN_Conn_P_Src_IP','CoAP', 'HTTPS', 'DNS', 'Telnet', 'SMTP', 'SSH', 'IRC', 'urg_flag_number', 'ece_flag_number', 'cwr_flag_number', 'ack_count','Wifi_Subtype','DS status','DHCP','ARP','ICMP','fin_flag_number','wifi_src','wifi_dst','Sequence number',\t'Protocol Version','Source Port','Destination Port','Protocol Type','Duration'], axis=1)"
      ]
    },
    {
      "cell_type": "code",
      "execution_count": null,
      "metadata": {
        "id": "sv0ai9GQoG-m"
      },
      "outputs": [],
      "source": [
        "cleanedpro=cleanedd.loc[:, (cleanedd != 0).any(axis=0)]"
      ]
    },
    {
      "cell_type": "code",
      "execution_count": null,
      "metadata": {
        "id": "rufs62kN4aJG",
        "colab": {
          "base_uri": "https://localhost:8080/",
          "height": 273
        },
        "outputId": "31591243-fccc-4fa5-aa25-5836b2c230eb"
      },
      "outputs": [
        {
          "output_type": "execute_result",
          "data": {
            "text/plain": [
              "   Unnamed: 0          ts  flow_duration  Header_Length       Source IP  \\\n",
              "0           0  1528095664       0.000000           1112  192.168.100.46   \n",
              "1           1  1528095664       0.000000           1405  192.168.100.55   \n",
              "2           2  1528095664       0.000005           2591   192.168.100.3   \n",
              "3           3  1528095664       0.000000            777  192.168.100.46   \n",
              "4           4  1528095664       0.003423           1709   192.168.100.5   \n",
              "\n",
              "   Destination IP  src_ip_bytes  dst_ip_bytes  src_pkts  dst_pkts  ...  \\\n",
              "0   192.168.100.5             1             1         1         1  ...   \n",
              "1   192.168.100.3             1             1         1         1  ...   \n",
              "2  192.168.100.55             1             1         1         1  ...   \n",
              "3   192.168.100.5             2             2         2         2  ...   \n",
              "4  192.168.100.46             1             1         1         1  ...   \n",
              "\n",
              "       Radius  Covariance  Variance  Weight  flow_idle_time  flow_active_time  \\\n",
              "0    0.000000         0.0       0.0       0    1.528096e+09          0.000000   \n",
              "1  146.500000         0.0       0.0       0    1.528096e+09          0.000000   \n",
              "2  124.403465         0.0       0.0       0    5.010000e-06          0.000005   \n",
              "3  124.403465         0.0       0.0       3    1.528096e+09          0.000000   \n",
              "4  296.257489         0.0       0.0       4    3.422976e-03          0.003423   \n",
              "\n",
              "   Correlation  category  Protocol_name  label  \n",
              "0          0.0      Ddos            UDP  111.0  \n",
              "1          0.0      Ddos            TCP  112.0  \n",
              "2          0.0      Ddos            TCP  112.0  \n",
              "3          0.0      Ddos            UDP  111.0  \n",
              "4          0.0      Ddos            UDP  111.0  \n",
              "\n",
              "[5 rows x 66 columns]"
            ],
            "text/html": [
              "\n",
              "  <div id=\"df-8c2ce21f-5738-4e7c-be3b-cd4ed454f4bb\" class=\"colab-df-container\">\n",
              "    <div>\n",
              "<style scoped>\n",
              "    .dataframe tbody tr th:only-of-type {\n",
              "        vertical-align: middle;\n",
              "    }\n",
              "\n",
              "    .dataframe tbody tr th {\n",
              "        vertical-align: top;\n",
              "    }\n",
              "\n",
              "    .dataframe thead th {\n",
              "        text-align: right;\n",
              "    }\n",
              "</style>\n",
              "<table border=\"1\" class=\"dataframe\">\n",
              "  <thead>\n",
              "    <tr style=\"text-align: right;\">\n",
              "      <th></th>\n",
              "      <th>Unnamed: 0</th>\n",
              "      <th>ts</th>\n",
              "      <th>flow_duration</th>\n",
              "      <th>Header_Length</th>\n",
              "      <th>Source IP</th>\n",
              "      <th>Destination IP</th>\n",
              "      <th>src_ip_bytes</th>\n",
              "      <th>dst_ip_bytes</th>\n",
              "      <th>src_pkts</th>\n",
              "      <th>dst_pkts</th>\n",
              "      <th>...</th>\n",
              "      <th>Radius</th>\n",
              "      <th>Covariance</th>\n",
              "      <th>Variance</th>\n",
              "      <th>Weight</th>\n",
              "      <th>flow_idle_time</th>\n",
              "      <th>flow_active_time</th>\n",
              "      <th>Correlation</th>\n",
              "      <th>category</th>\n",
              "      <th>Protocol_name</th>\n",
              "      <th>label</th>\n",
              "    </tr>\n",
              "  </thead>\n",
              "  <tbody>\n",
              "    <tr>\n",
              "      <th>0</th>\n",
              "      <td>0</td>\n",
              "      <td>1528095664</td>\n",
              "      <td>0.000000</td>\n",
              "      <td>1112</td>\n",
              "      <td>192.168.100.46</td>\n",
              "      <td>192.168.100.5</td>\n",
              "      <td>1</td>\n",
              "      <td>1</td>\n",
              "      <td>1</td>\n",
              "      <td>1</td>\n",
              "      <td>...</td>\n",
              "      <td>0.000000</td>\n",
              "      <td>0.0</td>\n",
              "      <td>0.0</td>\n",
              "      <td>0</td>\n",
              "      <td>1.528096e+09</td>\n",
              "      <td>0.000000</td>\n",
              "      <td>0.0</td>\n",
              "      <td>Ddos</td>\n",
              "      <td>UDP</td>\n",
              "      <td>111.0</td>\n",
              "    </tr>\n",
              "    <tr>\n",
              "      <th>1</th>\n",
              "      <td>1</td>\n",
              "      <td>1528095664</td>\n",
              "      <td>0.000000</td>\n",
              "      <td>1405</td>\n",
              "      <td>192.168.100.55</td>\n",
              "      <td>192.168.100.3</td>\n",
              "      <td>1</td>\n",
              "      <td>1</td>\n",
              "      <td>1</td>\n",
              "      <td>1</td>\n",
              "      <td>...</td>\n",
              "      <td>146.500000</td>\n",
              "      <td>0.0</td>\n",
              "      <td>0.0</td>\n",
              "      <td>0</td>\n",
              "      <td>1.528096e+09</td>\n",
              "      <td>0.000000</td>\n",
              "      <td>0.0</td>\n",
              "      <td>Ddos</td>\n",
              "      <td>TCP</td>\n",
              "      <td>112.0</td>\n",
              "    </tr>\n",
              "    <tr>\n",
              "      <th>2</th>\n",
              "      <td>2</td>\n",
              "      <td>1528095664</td>\n",
              "      <td>0.000005</td>\n",
              "      <td>2591</td>\n",
              "      <td>192.168.100.3</td>\n",
              "      <td>192.168.100.55</td>\n",
              "      <td>1</td>\n",
              "      <td>1</td>\n",
              "      <td>1</td>\n",
              "      <td>1</td>\n",
              "      <td>...</td>\n",
              "      <td>124.403465</td>\n",
              "      <td>0.0</td>\n",
              "      <td>0.0</td>\n",
              "      <td>0</td>\n",
              "      <td>5.010000e-06</td>\n",
              "      <td>0.000005</td>\n",
              "      <td>0.0</td>\n",
              "      <td>Ddos</td>\n",
              "      <td>TCP</td>\n",
              "      <td>112.0</td>\n",
              "    </tr>\n",
              "    <tr>\n",
              "      <th>3</th>\n",
              "      <td>3</td>\n",
              "      <td>1528095664</td>\n",
              "      <td>0.000000</td>\n",
              "      <td>777</td>\n",
              "      <td>192.168.100.46</td>\n",
              "      <td>192.168.100.5</td>\n",
              "      <td>2</td>\n",
              "      <td>2</td>\n",
              "      <td>2</td>\n",
              "      <td>2</td>\n",
              "      <td>...</td>\n",
              "      <td>124.403465</td>\n",
              "      <td>0.0</td>\n",
              "      <td>0.0</td>\n",
              "      <td>3</td>\n",
              "      <td>1.528096e+09</td>\n",
              "      <td>0.000000</td>\n",
              "      <td>0.0</td>\n",
              "      <td>Ddos</td>\n",
              "      <td>UDP</td>\n",
              "      <td>111.0</td>\n",
              "    </tr>\n",
              "    <tr>\n",
              "      <th>4</th>\n",
              "      <td>4</td>\n",
              "      <td>1528095664</td>\n",
              "      <td>0.003423</td>\n",
              "      <td>1709</td>\n",
              "      <td>192.168.100.5</td>\n",
              "      <td>192.168.100.46</td>\n",
              "      <td>1</td>\n",
              "      <td>1</td>\n",
              "      <td>1</td>\n",
              "      <td>1</td>\n",
              "      <td>...</td>\n",
              "      <td>296.257489</td>\n",
              "      <td>0.0</td>\n",
              "      <td>0.0</td>\n",
              "      <td>4</td>\n",
              "      <td>3.422976e-03</td>\n",
              "      <td>0.003423</td>\n",
              "      <td>0.0</td>\n",
              "      <td>Ddos</td>\n",
              "      <td>UDP</td>\n",
              "      <td>111.0</td>\n",
              "    </tr>\n",
              "  </tbody>\n",
              "</table>\n",
              "<p>5 rows × 66 columns</p>\n",
              "</div>\n",
              "    <div class=\"colab-df-buttons\">\n",
              "\n",
              "  <div class=\"colab-df-container\">\n",
              "    <button class=\"colab-df-convert\" onclick=\"convertToInteractive('df-8c2ce21f-5738-4e7c-be3b-cd4ed454f4bb')\"\n",
              "            title=\"Convert this dataframe to an interactive table.\"\n",
              "            style=\"display:none;\">\n",
              "\n",
              "  <svg xmlns=\"http://www.w3.org/2000/svg\" height=\"24px\" viewBox=\"0 -960 960 960\">\n",
              "    <path d=\"M120-120v-720h720v720H120Zm60-500h600v-160H180v160Zm220 220h160v-160H400v160Zm0 220h160v-160H400v160ZM180-400h160v-160H180v160Zm440 0h160v-160H620v160ZM180-180h160v-160H180v160Zm440 0h160v-160H620v160Z\"/>\n",
              "  </svg>\n",
              "    </button>\n",
              "\n",
              "  <style>\n",
              "    .colab-df-container {\n",
              "      display:flex;\n",
              "      gap: 12px;\n",
              "    }\n",
              "\n",
              "    .colab-df-convert {\n",
              "      background-color: #E8F0FE;\n",
              "      border: none;\n",
              "      border-radius: 50%;\n",
              "      cursor: pointer;\n",
              "      display: none;\n",
              "      fill: #1967D2;\n",
              "      height: 32px;\n",
              "      padding: 0 0 0 0;\n",
              "      width: 32px;\n",
              "    }\n",
              "\n",
              "    .colab-df-convert:hover {\n",
              "      background-color: #E2EBFA;\n",
              "      box-shadow: 0px 1px 2px rgba(60, 64, 67, 0.3), 0px 1px 3px 1px rgba(60, 64, 67, 0.15);\n",
              "      fill: #174EA6;\n",
              "    }\n",
              "\n",
              "    .colab-df-buttons div {\n",
              "      margin-bottom: 4px;\n",
              "    }\n",
              "\n",
              "    [theme=dark] .colab-df-convert {\n",
              "      background-color: #3B4455;\n",
              "      fill: #D2E3FC;\n",
              "    }\n",
              "\n",
              "    [theme=dark] .colab-df-convert:hover {\n",
              "      background-color: #434B5C;\n",
              "      box-shadow: 0px 1px 3px 1px rgba(0, 0, 0, 0.15);\n",
              "      filter: drop-shadow(0px 1px 2px rgba(0, 0, 0, 0.3));\n",
              "      fill: #FFFFFF;\n",
              "    }\n",
              "  </style>\n",
              "\n",
              "    <script>\n",
              "      const buttonEl =\n",
              "        document.querySelector('#df-8c2ce21f-5738-4e7c-be3b-cd4ed454f4bb button.colab-df-convert');\n",
              "      buttonEl.style.display =\n",
              "        google.colab.kernel.accessAllowed ? 'block' : 'none';\n",
              "\n",
              "      async function convertToInteractive(key) {\n",
              "        const element = document.querySelector('#df-8c2ce21f-5738-4e7c-be3b-cd4ed454f4bb');\n",
              "        const dataTable =\n",
              "          await google.colab.kernel.invokeFunction('convertToInteractive',\n",
              "                                                    [key], {});\n",
              "        if (!dataTable) return;\n",
              "\n",
              "        const docLinkHtml = 'Like what you see? Visit the ' +\n",
              "          '<a target=\"_blank\" href=https://colab.research.google.com/notebooks/data_table.ipynb>data table notebook</a>'\n",
              "          + ' to learn more about interactive tables.';\n",
              "        element.innerHTML = '';\n",
              "        dataTable['output_type'] = 'display_data';\n",
              "        await google.colab.output.renderOutput(dataTable, element);\n",
              "        const docLink = document.createElement('div');\n",
              "        docLink.innerHTML = docLinkHtml;\n",
              "        element.appendChild(docLink);\n",
              "      }\n",
              "    </script>\n",
              "  </div>\n",
              "\n",
              "\n",
              "<div id=\"df-3ece1c2a-2936-4b1a-b13b-b21e3b517e70\">\n",
              "  <button class=\"colab-df-quickchart\" onclick=\"quickchart('df-3ece1c2a-2936-4b1a-b13b-b21e3b517e70')\"\n",
              "            title=\"Suggest charts.\"\n",
              "            style=\"display:none;\">\n",
              "\n",
              "<svg xmlns=\"http://www.w3.org/2000/svg\" height=\"24px\"viewBox=\"0 0 24 24\"\n",
              "     width=\"24px\">\n",
              "    <g>\n",
              "        <path d=\"M19 3H5c-1.1 0-2 .9-2 2v14c0 1.1.9 2 2 2h14c1.1 0 2-.9 2-2V5c0-1.1-.9-2-2-2zM9 17H7v-7h2v7zm4 0h-2V7h2v10zm4 0h-2v-4h2v4z\"/>\n",
              "    </g>\n",
              "</svg>\n",
              "  </button>\n",
              "\n",
              "<style>\n",
              "  .colab-df-quickchart {\n",
              "      --bg-color: #E8F0FE;\n",
              "      --fill-color: #1967D2;\n",
              "      --hover-bg-color: #E2EBFA;\n",
              "      --hover-fill-color: #174EA6;\n",
              "      --disabled-fill-color: #AAA;\n",
              "      --disabled-bg-color: #DDD;\n",
              "  }\n",
              "\n",
              "  [theme=dark] .colab-df-quickchart {\n",
              "      --bg-color: #3B4455;\n",
              "      --fill-color: #D2E3FC;\n",
              "      --hover-bg-color: #434B5C;\n",
              "      --hover-fill-color: #FFFFFF;\n",
              "      --disabled-bg-color: #3B4455;\n",
              "      --disabled-fill-color: #666;\n",
              "  }\n",
              "\n",
              "  .colab-df-quickchart {\n",
              "    background-color: var(--bg-color);\n",
              "    border: none;\n",
              "    border-radius: 50%;\n",
              "    cursor: pointer;\n",
              "    display: none;\n",
              "    fill: var(--fill-color);\n",
              "    height: 32px;\n",
              "    padding: 0;\n",
              "    width: 32px;\n",
              "  }\n",
              "\n",
              "  .colab-df-quickchart:hover {\n",
              "    background-color: var(--hover-bg-color);\n",
              "    box-shadow: 0 1px 2px rgba(60, 64, 67, 0.3), 0 1px 3px 1px rgba(60, 64, 67, 0.15);\n",
              "    fill: var(--button-hover-fill-color);\n",
              "  }\n",
              "\n",
              "  .colab-df-quickchart-complete:disabled,\n",
              "  .colab-df-quickchart-complete:disabled:hover {\n",
              "    background-color: var(--disabled-bg-color);\n",
              "    fill: var(--disabled-fill-color);\n",
              "    box-shadow: none;\n",
              "  }\n",
              "\n",
              "  .colab-df-spinner {\n",
              "    border: 2px solid var(--fill-color);\n",
              "    border-color: transparent;\n",
              "    border-bottom-color: var(--fill-color);\n",
              "    animation:\n",
              "      spin 1s steps(1) infinite;\n",
              "  }\n",
              "\n",
              "  @keyframes spin {\n",
              "    0% {\n",
              "      border-color: transparent;\n",
              "      border-bottom-color: var(--fill-color);\n",
              "      border-left-color: var(--fill-color);\n",
              "    }\n",
              "    20% {\n",
              "      border-color: transparent;\n",
              "      border-left-color: var(--fill-color);\n",
              "      border-top-color: var(--fill-color);\n",
              "    }\n",
              "    30% {\n",
              "      border-color: transparent;\n",
              "      border-left-color: var(--fill-color);\n",
              "      border-top-color: var(--fill-color);\n",
              "      border-right-color: var(--fill-color);\n",
              "    }\n",
              "    40% {\n",
              "      border-color: transparent;\n",
              "      border-right-color: var(--fill-color);\n",
              "      border-top-color: var(--fill-color);\n",
              "    }\n",
              "    60% {\n",
              "      border-color: transparent;\n",
              "      border-right-color: var(--fill-color);\n",
              "    }\n",
              "    80% {\n",
              "      border-color: transparent;\n",
              "      border-right-color: var(--fill-color);\n",
              "      border-bottom-color: var(--fill-color);\n",
              "    }\n",
              "    90% {\n",
              "      border-color: transparent;\n",
              "      border-bottom-color: var(--fill-color);\n",
              "    }\n",
              "  }\n",
              "</style>\n",
              "\n",
              "  <script>\n",
              "    async function quickchart(key) {\n",
              "      const quickchartButtonEl =\n",
              "        document.querySelector('#' + key + ' button');\n",
              "      quickchartButtonEl.disabled = true;  // To prevent multiple clicks.\n",
              "      quickchartButtonEl.classList.add('colab-df-spinner');\n",
              "      try {\n",
              "        const charts = await google.colab.kernel.invokeFunction(\n",
              "            'suggestCharts', [key], {});\n",
              "      } catch (error) {\n",
              "        console.error('Error during call to suggestCharts:', error);\n",
              "      }\n",
              "      quickchartButtonEl.classList.remove('colab-df-spinner');\n",
              "      quickchartButtonEl.classList.add('colab-df-quickchart-complete');\n",
              "    }\n",
              "    (() => {\n",
              "      let quickchartButtonEl =\n",
              "        document.querySelector('#df-3ece1c2a-2936-4b1a-b13b-b21e3b517e70 button');\n",
              "      quickchartButtonEl.style.display =\n",
              "        google.colab.kernel.accessAllowed ? 'block' : 'none';\n",
              "    })();\n",
              "  </script>\n",
              "</div>\n",
              "    </div>\n",
              "  </div>\n"
            ]
          },
          "metadata": {},
          "execution_count": 36
        }
      ],
      "source": [
        "cleanedpro.to_csv(\"/content/drive/MyDrive/veriag/combined_file.csv\", index=False, header=True)\n",
        "#csv=combined_file\n",
        "\n",
        "cleanedpro.head()"
      ]
    },
    {
      "cell_type": "markdown",
      "source": [],
      "metadata": {
        "id": "JLJqL715lXsn"
      }
    },
    {
      "cell_type": "code",
      "execution_count": null,
      "metadata": {
        "id": "aIskPCrewV-H"
      },
      "outputs": [],
      "source": [
        "cleanedpro.count()"
      ]
    },
    {
      "cell_type": "code",
      "execution_count": null,
      "metadata": {
        "id": "7s35uVZlgGht",
        "colab": {
          "base_uri": "https://localhost:8080/",
          "height": 424
        },
        "outputId": "cdafe997-c558-4f15-c306-8be399bbe960"
      },
      "outputs": [
        {
          "output_type": "execute_result",
          "data": {
            "text/plain": [
              "<Axes: ylabel='category'>"
            ]
          },
          "metadata": {},
          "execution_count": 38
        },
        {
          "output_type": "display_data",
          "data": {
            "text/plain": [
              "<Figure size 640x480 with 1 Axes>"
            ],
            "image/png": "[encoded data removed]"
          },
          "metadata": {}
        }
      ],
      "source": [
        "cleanedpro.category.value_counts().plot(kind='pie')"
      ]
    },
    {
      "cell_type": "code",
      "execution_count": null,
      "metadata": {
        "id": "yUUQ5mqhpuxN"
      },
      "outputs": [],
      "source": [
        "cleanedpro['AR_P_Proto_P_Dst_IP'] = cleanedpro['AR_P_Proto_P_Dst_IP'].str.replace('\\W','', regex=True)\n",
        "cleanedpro['AR_P_Proto_P_dport'] = cleanedpro['AR_P_Proto_P_dport'].str.replace(\"\\W\", \"\", regex=True)\n",
        "cleanedpro['TnP_per_dport'] = cleanedpro['TnP_per_dport'].str.replace('\\W', '', regex=True)\n",
        "cleanedpro['N_IN_Conn_P_Dst_IP'] = cleanedpro['N_IN_Conn_P_Dst_IP'].str.replace('\\W', '', regex=True)\n",
        "#cleanedpro[' TnP_per_Proto'] = cleanedpro[' TnP_per_Proto'].str.replace('\\W', '', regex=True)\n",
        "cleanedpro['AR_P_Proto_P_sport'] = cleanedpro['AR_P_Proto_P_sport'].str.replace('\\W', '', regex=True)\n",
        "cleanedpro.head()\n"
      ]
    },
    {
      "cell_type": "code",
      "execution_count": null,
      "metadata": {
        "id": "WjrbhvolkNT4"
      },
      "outputs": [],
      "source": [
        "# Label Encoding the target columns\n",
        "le = LabelEncoder()\n",
        "cleanedpro['label'] = le.fit_transform(cleanedpro['label'])\n",
        "cleanedpro['category'] = le.fit_transform(cleanedpro['category'])\n",
        "cleanedpro['Protocol_name'] = le.fit_transform(cleanedpro['Protocol_name'])\n",
        "cleanedpro['Source IP'] = le.fit_transform(cleanedpro['Source IP'])\n",
        "cleanedpro['Destination IP'] = le.fit_transform(cleanedpro['Destination IP'])\n",
        "cleanedpro['AR_P_Proto_P_Dst_IP'] = le.fit_transform(cleanedpro['AR_P_Proto_P_Dst_IP'])\n",
        "cleanedpro['AR_P_Proto_P_SrcIP'] = le.fit_transform(cleanedpro['AR_P_Proto_P_SrcIP'])\n",
        "cleanedpro['AR_P_Proto_P_sport'] = le.fit_transform(cleanedpro['AR_P_Proto_P_sport'])\n",
        "cleanedpro['AR_P_Proto_P_dport'] = le.fit_transform(cleanedpro['AR_P_Proto_P_dport'])\n",
        "\n",
        "cleanedpro.head()"
      ]
    },
    {
      "cell_type": "code",
      "execution_count": null,
      "metadata": {
        "id": "34pMuG8WfVtt",
        "colab": {
          "base_uri": "https://localhost:8080/",
          "height": 424
        },
        "outputId": "130831e6-4698-4861-d391-5b8cab1a68aa"
      },
      "outputs": [
        {
          "output_type": "execute_result",
          "data": {
            "text/plain": [
              "<Axes: ylabel='category'>"
            ]
          },
          "metadata": {},
          "execution_count": 41
        },
        {
          "output_type": "display_data",
          "data": {
            "text/plain": [
              "<Figure size 640x480 with 1 Axes>"
            ],
            "image/png": "[encoded data removed]"
          },
          "metadata": {}
        }
      ],
      "source": [
        "cleanedpro.category.value_counts().plot(kind='pie')"
      ]
    },
    {
      "cell_type": "markdown",
      "metadata": {
        "id": "hfQ2aD6p8PqU"
      },
      "source": [
        "# Exploratory Data Analysis"
      ]
    },
    {
      "cell_type": "code",
      "execution_count": null,
      "metadata": {
        "colab": {
          "base_uri": "https://localhost:8080/"
        },
        "id": "V80alvgdAfaK",
        "outputId": "f2b4fd41-e9ac-47d6-f1bb-23cf97f469e9"
      },
      "outputs": [
        {
          "data": {
            "text/plain": [
              "0    38250\n",
              "2     4760\n",
              "1     4568\n",
              "5     2602\n",
              "3     1173\n",
              "4      754\n",
              "Name: category, dtype: int64"
            ]
          },
          "execution_count": 160,
          "metadata": {},
          "output_type": "execute_result"
        }
      ],
      "source": [
        "cleanedpro['category'].value_counts()"
      ]
    },
    {
      "cell_type": "code",
      "execution_count": null,
      "metadata": {
        "colab": {
          "base_uri": "https://localhost:8080/"
        },
        "id": "voFdMSfuKNXk",
        "outputId": "e1a9b2e7-8c4e-4d9d-b464-c9c4269f4d4f"
      },
      "outputs": [
        {
          "data": {
            "text/plain": [
              "Unnamed: 0          52107\n",
              "ts                  52107\n",
              "flow_duration       52107\n",
              "Header_Length       52107\n",
              "Source IP           52107\n",
              "                    ...  \n",
              "flow_active_time    52107\n",
              "Correlation         52107\n",
              "category            52107\n",
              "Protocol_name       52107\n",
              "label               52107\n",
              "Length: 67, dtype: int64"
            ]
          },
          "execution_count": 151,
          "metadata": {},
          "output_type": "execute_result"
        }
      ],
      "source": [
        "cleanedpro.count()"
      ]
    },
    {
      "cell_type": "code",
      "execution_count": null,
      "metadata": {
        "id": "Y06Au3NeLqdi"
      },
      "outputs": [],
      "source": []
    },
    {
      "cell_type": "code",
      "execution_count": null,
      "metadata": {
        "id": "hcxVguEAr1D-"
      },
      "outputs": [],
      "source": [
        "#if an error occur that ndarray does not have an attribute value count() active this code but you should check the size of the data set it changed\n",
        "#X_train = pd.DataFrame(cleanedpro, columns = cleanedpro.columns)\n",
        "#X_test = pd.DataFrame(cleanedpro, columns=cleanedpro.columns)"
      ]
    },
    {
      "cell_type": "markdown",
      "metadata": {
        "id": "vcMg8unTbgMW"
      },
      "source": [
        "#SEPERATING LABELS\n",
        "Preparing for data resampling the size"
      ]
    },
    {
      "cell_type": "code",
      "execution_count": null,
      "metadata": {
        "colab": {
          "base_uri": "https://localhost:8080/"
        },
        "id": "Ptbb5zD_lqp3",
        "outputId": "5a2445fb-188d-4563-f7cf-5d2b546f6b4c"
      },
      "outputs": [
        {
          "output_type": "stream",
          "name": "stdout",
          "text": [
            "class 0: (38250, 66)\n",
            "class 1: (4568, 66)\n",
            "class 2: (4760, 66)\n",
            "class 3: (1173, 66)\n",
            "class 4: (754, 66)\n",
            "class 5: (2602, 66)\n"
          ]
        }
      ],
      "source": [
        "# Separate class\n",
        "class_0 = cleanedpro[cleanedpro['category'] == 0]\n",
        "class_1 = cleanedpro[cleanedpro['category'] == 1]\n",
        "class_2 = cleanedpro[cleanedpro['category'] == 2]\n",
        "class_3 = cleanedpro[cleanedpro['category'] == 3]\n",
        "class_4 = cleanedpro[cleanedpro['category'] == 4]\n",
        "class_5 = cleanedpro[cleanedpro['category'] == 5]\n",
        "#class_6 = cleanedpro[cleanedpro['label'] == 6]\n",
        "#class_7 = cleanedpro[cleanedpro['label'] == 7]\n",
        "#class_8 = cleanedpro[cleanedpro['label'] == 8]\n",
        "\n",
        "# print the shape of the class\n",
        "\n",
        "print('class 0:', class_0.shape)\n",
        "print('class 1:', class_1.shape)\n",
        "print('class 2:', class_2.shape)\n",
        "print('class 3:', class_3.shape)\n",
        "print('class 4:', class_4.shape)\n",
        "print('class 5:', class_5.shape)\n",
        "#print('class 6:', class_6.shape)\n",
        "#print('class 7:', class_7.shape)\n",
        "#print('class 8:', class_8.shape)\n"
      ]
    },
    {
      "cell_type": "markdown",
      "metadata": {
        "id": "LeWaIecIM-KO"
      },
      "source": []
    },
    {
      "cell_type": "markdown",
      "metadata": {
        "id": "uNiHNP_xwhSY"
      },
      "source": [
        "#UnderSampling\n",
        "forthe big values such as 0 and 1"
      ]
    },
    {
      "cell_type": "code",
      "execution_count": null,
      "metadata": {
        "colab": {
          "base_uri": "https://localhost:8080/",
          "height": 520
        },
        "id": "eWkcLvq3pTlX",
        "outputId": "bba4ca1d-f75a-4179-f2f1-827b9859e0eb"
      },
      "outputs": [
        {
          "output_type": "stream",
          "name": "stdout",
          "text": [
            "total class of 0: 0    8684\n",
            "1      10\n",
            "Name: category, dtype: int64\n"
          ]
        },
        {
          "output_type": "execute_result",
          "data": {
            "text/plain": [
              "<Axes: title={'center': 'count (target)'}>"
            ]
          },
          "metadata": {},
          "execution_count": 45
        },
        {
          "output_type": "display_data",
          "data": {
            "text/plain": [
              "<Figure size 640x480 with 1 Axes>"
            ],
            "image/png": "[encoded data removed]"
          },
          "metadata": {}
        }
      ],
      "source": [
        "# undersampling\n",
        "\n",
        "class_0_under = class_0.sample(8684)\n",
        "class_1_under = class_1.sample(10)\n",
        "test_under0 = pd.concat([class_0_under,class_1_under], axis=0)\n",
        "print(\"total class of 0:\",test_under0['category'].value_counts())# plot the count after under-sampeling\n",
        "test_under0['category'].value_counts().plot(kind='bar', title='count (target)')\n"
      ]
    },
    {
      "cell_type": "code",
      "execution_count": null,
      "metadata": {
        "colab": {
          "base_uri": "https://localhost:8080/"
        },
        "id": "ttYPQhLLtmRp",
        "outputId": "4ba802ef-dc40-4fd5-fcf9-11f15420beb0"
      },
      "outputs": [
        {
          "output_type": "stream",
          "name": "stdout",
          "text": [
            "8684 10\n"
          ]
        }
      ],
      "source": [
        "x,y=test_under0['category'].value_counts()\n",
        "print(x,y)"
      ]
    },
    {
      "cell_type": "code",
      "execution_count": null,
      "metadata": {
        "colab": {
          "base_uri": "https://localhost:8080/"
        },
        "id": "0eyJo7nOyXyx",
        "outputId": "50f755b2-ad08-4313-8e4a-4866410f6e1b"
      },
      "outputs": [
        {
          "output_type": "execute_result",
          "data": {
            "text/plain": [
              "0    8684\n",
              "Name: category, dtype: int64"
            ]
          },
          "metadata": {},
          "execution_count": 47
        }
      ],
      "source": [
        "class_0_under['category'].value_counts()"
      ]
    },
    {
      "cell_type": "markdown",
      "metadata": {
        "id": "dD4Njt2FwTV3"
      },
      "source": [
        "#OverSampling"
      ]
    },
    {
      "cell_type": "code",
      "execution_count": null,
      "metadata": {
        "colab": {
          "base_uri": "https://localhost:8080/",
          "height": 574
        },
        "id": "MhJrE_7eogZs",
        "outputId": "e5bb5d7a-61ac-4280-e7ea-c58db2a6137c"
      },
      "outputs": [
        {
          "output_type": "stream",
          "name": "stdout",
          "text": [
            "total class of 1 and0: 1    8694\n",
            "2    8684\n",
            "3    8684\n",
            "4    8684\n",
            "5    8684\n",
            "0    8684\n",
            "Name: category, dtype: int64\n"
          ]
        },
        {
          "output_type": "execute_result",
          "data": {
            "text/plain": [
              "<Axes: title={'center': 'count (target)'}, ylabel='category'>"
            ]
          },
          "metadata": {},
          "execution_count": 49
        },
        {
          "output_type": "display_data",
          "data": {
            "text/plain": [
              "<Figure size 640x480 with 1 Axes>"
            ],
            "image/png": "[encoded data removed]"
          },
          "metadata": {}
        }
      ],
      "source": [
        "# oversampling\n",
        "class_1_under = class_1.sample(x,replace=True)\n",
        "class_2_under = class_2.sample(x,replace=True)\n",
        "class_3_under = class_3.sample(x,replace=True)\n",
        "class_4_under = class_4.sample(x,replace=True)\n",
        "class_5_under = class_5.sample(x,replace=True)\n",
        "#class_6_under = class_6.sample(x,replace=True)\n",
        "#class_7_under = class_7.sample(x,replace=True)\n",
        "#class_8_under = class_8.sample(x,replace=True)\n",
        "\n",
        "test_under1 = pd.concat([class_1_under, class_2_under], axis=0)\n",
        "test_under2 = pd.concat([test_under1, class_3_under], axis=0)\n",
        "test_under3 = pd.concat([test_under2, class_4_under], axis=0)\n",
        "test_under4 = pd.concat([test_under3, class_5_under], axis=0)\n",
        "#test_under5 = pd.concat([test_under4, class_7_under], axis=0)\n",
        "#test_under6 = pd.concat([test_under5, class_8_under], axis=0)\n",
        "mydata = pd.concat([test_under4, test_under0], axis=0)\n",
        "print(\"total class of 1 and0:\",mydata['category'].value_counts())# plot the count after under-sampeling\n",
        "mydata['category'].value_counts().plot(kind='pie', title='count (target)')"
      ]
    },
    {
      "cell_type": "code",
      "execution_count": null,
      "metadata": {
        "id": "xnIWsAoPXg-d",
        "colab": {
          "base_uri": "https://localhost:8080/",
          "height": 424
        },
        "outputId": "3d501042-2051-4a61-abbf-ff598a7e5fc1"
      },
      "outputs": [
        {
          "output_type": "execute_result",
          "data": {
            "text/plain": [
              "<Axes: ylabel='category'>"
            ]
          },
          "metadata": {},
          "execution_count": 50
        },
        {
          "output_type": "display_data",
          "data": {
            "text/plain": [
              "<Figure size 640x480 with 1 Axes>"
            ],
            "image/png": "[encoded data removed]"
          },
          "metadata": {}
        }
      ],
      "source": [
        "mydata.category.value_counts().plot(kind='pie')"
      ]
    },
    {
      "cell_type": "code",
      "execution_count": null,
      "metadata": {
        "colab": {
          "base_uri": "https://localhost:8080/"
        },
        "id": "e7IR5sjLtur9",
        "outputId": "320bb171-b910-42e0-d3b9-379cdd538e9a"
      },
      "outputs": [
        {
          "data": {
            "text/plain": [
              "(52114, 67)"
            ]
          },
          "execution_count": 110,
          "metadata": {},
          "output_type": "execute_result"
        }
      ],
      "source": [
        "mydata.shape"
      ]
    },
    {
      "cell_type": "code",
      "execution_count": null,
      "metadata": {
        "id": "Ouoyd8edjuDC"
      },
      "outputs": [],
      "source": [
        "print(mydata)"
      ]
    },
    {
      "cell_type": "markdown",
      "metadata": {
        "id": "NSXyoWxptUSF"
      },
      "source": [
        "#DIVIDING X,Y,TEST,TRAIN"
      ]
    },
    {
      "cell_type": "code",
      "execution_count": null,
      "metadata": {
        "id": "-YcUgMej8oyI"
      },
      "outputs": [],
      "source": [
        "#xdata = mydata[['Max', 'Min','Std','Protocol_name','Tot sum','AVG','Radius','Number','ts','Header_Length','MAC','Tot size']]"
      ]
    },
    {
      "cell_type": "code",
      "execution_count": null,
      "metadata": {
        "colab": {
          "base_uri": "https://localhost:8080/",
          "height": 461
        },
        "id": "NUGENw-4kTYy",
        "outputId": "8b3fb209-c8b7-4a01-9a7d-81ba6155e6d8"
      },
      "outputs": [
        {
          "output_type": "execute_result",
          "data": {
            "text/plain": [
              "      sum_flow_duration  average_flow_duration  std_flow_duration  MQTT  HTTP  \\\n",
              "808        8.862871e+10             1528081264           0.388764     0     0   \n",
              "1750       7.150000e+11             1528081265           0.844163     0     0   \n",
              "1632       1.790000e+11             1528081265           0.785916     0     0   \n",
              "2718       1.110000e+12             1528081266           1.311754     0     1   \n",
              "2911       1.190000e+12             1528081266           1.405361     0     0   \n",
              "...                 ...                    ...                ...   ...   ...   \n",
              "3674       7.500000e+11             1528081267           1.772304     0     1   \n",
              "494        2.030000e+11             1528081264           0.238573     0     0   \n",
              "695        8.557255e+10             1528081264           0.336802     0     0   \n",
              "1471       6.020000e+11             1528081265           0.710930     0     1   \n",
              "2622       5.360000e+11             1528081266           1.266656     0     0   \n",
              "\n",
              "      TCP  UDP  AR_P_Proto_P_SrcIP  AR_P_Proto_P_sport  AR_P_Proto_P_dport  \\\n",
              "808     0    1                9093               48646               51935   \n",
              "1750    0    1                6827               49009               50887   \n",
              "1632    0    1                8988               48544               51018   \n",
              "2718    1    0                8831               50985               49812   \n",
              "2911    0    1                7432               51887               49597   \n",
              "...   ...  ...                 ...                 ...                 ...   \n",
              "3674    1    0                7232               49405               48750   \n",
              "494     0    1                4894               51628               47715   \n",
              "695     1    0                9118               47867               52061   \n",
              "1471    1    0                5256               48562               51197   \n",
              "2622    0    1                7897               51664               49918   \n",
              "\n",
              "      ...  Min   Max         AVG         Std  Number     MAC      Radius  \\\n",
              "808   ...   60  1368  865.222222  394.719810       9  808449  548.949221   \n",
              "1750  ...  296  1467  949.181818  366.315517      11  808449  484.814156   \n",
              "1632  ...   60  1502  823.461538  419.783390      13  808449  571.027013   \n",
              "2718  ...   60  1422  836.631579  410.159560      19  808449  624.572944   \n",
              "2911  ...   60  1447  857.333333  448.934912      12  808449  632.361935   \n",
              "...   ...  ...   ...         ...         ...     ...     ...         ...   \n",
              "3674  ...   60  1458  870.866667  397.458739      15  808449  566.496009   \n",
              "494   ...   60  1220  829.733333  323.375214      15  808449  422.755146   \n",
              "695   ...   60  1436  889.187500  354.434271      16  808449  531.965744   \n",
              "1471  ...   60  1320  729.666667  346.816554      12  808449  472.882887   \n",
              "2622  ...  743   969  839.666667   95.111630       3  808449  113.000000   \n",
              "\n",
              "      Protocol_name  Source IP  Destination IP  \n",
              "808               2        596              64  \n",
              "1750              2        593              65  \n",
              "1632              2        596              64  \n",
              "2718              1        594              64  \n",
              "2911              2        592              66  \n",
              "...             ...        ...             ...  \n",
              "3674              1        592              66  \n",
              "494               2        592              66  \n",
              "695               1        593              64  \n",
              "1471              1        591              67  \n",
              "2622              2        592              66  \n",
              "\n",
              "[52114 rows x 57 columns]"
            ],
            "text/html": [
              "\n",
              "  <div id=\"df-1667b101-9628-4e37-8e70-4a7c58382fb5\" class=\"colab-df-container\">\n",
              "    <div>\n",
              "<style scoped>\n",
              "    .dataframe tbody tr th:only-of-type {\n",
              "        vertical-align: middle;\n",
              "    }\n",
              "\n",
              "    .dataframe tbody tr th {\n",
              "        vertical-align: top;\n",
              "    }\n",
              "\n",
              "    .dataframe thead th {\n",
              "        text-align: right;\n",
              "    }\n",
              "</style>\n",
              "<table border=\"1\" class=\"dataframe\">\n",
              "  <thead>\n",
              "    <tr style=\"text-align: right;\">\n",
              "      <th></th>\n",
              "      <th>sum_flow_duration</th>\n",
              "      <th>average_flow_duration</th>\n",
              "      <th>std_flow_duration</th>\n",
              "      <th>MQTT</th>\n",
              "      <th>HTTP</th>\n",
              "      <th>TCP</th>\n",
              "      <th>UDP</th>\n",
              "      <th>AR_P_Proto_P_SrcIP</th>\n",
              "      <th>AR_P_Proto_P_sport</th>\n",
              "      <th>AR_P_Proto_P_dport</th>\n",
              "      <th>...</th>\n",
              "      <th>Min</th>\n",
              "      <th>Max</th>\n",
              "      <th>AVG</th>\n",
              "      <th>Std</th>\n",
              "      <th>Number</th>\n",
              "      <th>MAC</th>\n",
              "      <th>Radius</th>\n",
              "      <th>Protocol_name</th>\n",
              "      <th>Source IP</th>\n",
              "      <th>Destination IP</th>\n",
              "    </tr>\n",
              "  </thead>\n",
              "  <tbody>\n",
              "    <tr>\n",
              "      <th>808</th>\n",
              "      <td>8.862871e+10</td>\n",
              "      <td>1528081264</td>\n",
              "      <td>0.388764</td>\n",
              "      <td>0</td>\n",
              "      <td>0</td>\n",
              "      <td>0</td>\n",
              "      <td>1</td>\n",
              "      <td>9093</td>\n",
              "      <td>48646</td>\n",
              "      <td>51935</td>\n",
              "      <td>...</td>\n",
              "      <td>60</td>\n",
              "      <td>1368</td>\n",
              "      <td>865.222222</td>\n",
              "      <td>394.719810</td>\n",
              "      <td>9</td>\n",
              "      <td>808449</td>\n",
              "      <td>548.949221</td>\n",
              "      <td>2</td>\n",
              "      <td>596</td>\n",
              "      <td>64</td>\n",
              "    </tr>\n",
              "    <tr>\n",
              "      <th>1750</th>\n",
              "      <td>7.150000e+11</td>\n",
              "      <td>1528081265</td>\n",
              "      <td>0.844163</td>\n",
              "      <td>0</td>\n",
              "      <td>0</td>\n",
              "      <td>0</td>\n",
              "      <td>1</td>\n",
              "      <td>6827</td>\n",
              "      <td>49009</td>\n",
              "      <td>50887</td>\n",
              "      <td>...</td>\n",
              "      <td>296</td>\n",
              "      <td>1467</td>\n",
              "      <td>949.181818</td>\n",
              "      <td>366.315517</td>\n",
              "      <td>11</td>\n",
              "      <td>808449</td>\n",
              "      <td>484.814156</td>\n",
              "      <td>2</td>\n",
              "      <td>593</td>\n",
              "      <td>65</td>\n",
              "    </tr>\n",
              "    <tr>\n",
              "      <th>1632</th>\n",
              "      <td>1.790000e+11</td>\n",
              "      <td>1528081265</td>\n",
              "      <td>0.785916</td>\n",
              "      <td>0</td>\n",
              "      <td>0</td>\n",
              "      <td>0</td>\n",
              "      <td>1</td>\n",
              "      <td>8988</td>\n",
              "      <td>48544</td>\n",
              "      <td>51018</td>\n",
              "      <td>...</td>\n",
              "      <td>60</td>\n",
              "      <td>1502</td>\n",
              "      <td>823.461538</td>\n",
              "      <td>419.783390</td>\n",
              "      <td>13</td>\n",
              "      <td>808449</td>\n",
              "      <td>571.027013</td>\n",
              "      <td>2</td>\n",
              "      <td>596</td>\n",
              "      <td>64</td>\n",
              "    </tr>\n",
              "    <tr>\n",
              "      <th>2718</th>\n",
              "      <td>1.110000e+12</td>\n",
              "      <td>1528081266</td>\n",
              "      <td>1.311754</td>\n",
              "      <td>0</td>\n",
              "      <td>1</td>\n",
              "      <td>1</td>\n",
              "      <td>0</td>\n",
              "      <td>8831</td>\n",
              "      <td>50985</td>\n",
              "      <td>49812</td>\n",
              "      <td>...</td>\n",
              "      <td>60</td>\n",
              "      <td>1422</td>\n",
              "      <td>836.631579</td>\n",
              "      <td>410.159560</td>\n",
              "      <td>19</td>\n",
              "      <td>808449</td>\n",
              "      <td>624.572944</td>\n",
              "      <td>1</td>\n",
              "      <td>594</td>\n",
              "      <td>64</td>\n",
              "    </tr>\n",
              "    <tr>\n",
              "      <th>2911</th>\n",
              "      <td>1.190000e+12</td>\n",
              "      <td>1528081266</td>\n",
              "      <td>1.405361</td>\n",
              "      <td>0</td>\n",
              "      <td>0</td>\n",
              "      <td>0</td>\n",
              "      <td>1</td>\n",
              "      <td>7432</td>\n",
              "      <td>51887</td>\n",
              "      <td>49597</td>\n",
              "      <td>...</td>\n",
              "      <td>60</td>\n",
              "      <td>1447</td>\n",
              "      <td>857.333333</td>\n",
              "      <td>448.934912</td>\n",
              "      <td>12</td>\n",
              "      <td>808449</td>\n",
              "      <td>632.361935</td>\n",
              "      <td>2</td>\n",
              "      <td>592</td>\n",
              "      <td>66</td>\n",
              "    </tr>\n",
              "    <tr>\n",
              "      <th>...</th>\n",
              "      <td>...</td>\n",
              "      <td>...</td>\n",
              "      <td>...</td>\n",
              "      <td>...</td>\n",
              "      <td>...</td>\n",
              "      <td>...</td>\n",
              "      <td>...</td>\n",
              "      <td>...</td>\n",
              "      <td>...</td>\n",
              "      <td>...</td>\n",
              "      <td>...</td>\n",
              "      <td>...</td>\n",
              "      <td>...</td>\n",
              "      <td>...</td>\n",
              "      <td>...</td>\n",
              "      <td>...</td>\n",
              "      <td>...</td>\n",
              "      <td>...</td>\n",
              "      <td>...</td>\n",
              "      <td>...</td>\n",
              "      <td>...</td>\n",
              "    </tr>\n",
              "    <tr>\n",
              "      <th>3674</th>\n",
              "      <td>7.500000e+11</td>\n",
              "      <td>1528081267</td>\n",
              "      <td>1.772304</td>\n",
              "      <td>0</td>\n",
              "      <td>1</td>\n",
              "      <td>1</td>\n",
              "      <td>0</td>\n",
              "      <td>7232</td>\n",
              "      <td>49405</td>\n",
              "      <td>48750</td>\n",
              "      <td>...</td>\n",
              "      <td>60</td>\n",
              "      <td>1458</td>\n",
              "      <td>870.866667</td>\n",
              "      <td>397.458739</td>\n",
              "      <td>15</td>\n",
              "      <td>808449</td>\n",
              "      <td>566.496009</td>\n",
              "      <td>1</td>\n",
              "      <td>592</td>\n",
              "      <td>66</td>\n",
              "    </tr>\n",
              "    <tr>\n",
              "      <th>494</th>\n",
              "      <td>2.030000e+11</td>\n",
              "      <td>1528081264</td>\n",
              "      <td>0.238573</td>\n",
              "      <td>0</td>\n",
              "      <td>0</td>\n",
              "      <td>0</td>\n",
              "      <td>1</td>\n",
              "      <td>4894</td>\n",
              "      <td>51628</td>\n",
              "      <td>47715</td>\n",
              "      <td>...</td>\n",
              "      <td>60</td>\n",
              "      <td>1220</td>\n",
              "      <td>829.733333</td>\n",
              "      <td>323.375214</td>\n",
              "      <td>15</td>\n",
              "      <td>808449</td>\n",
              "      <td>422.755146</td>\n",
              "      <td>2</td>\n",
              "      <td>592</td>\n",
              "      <td>66</td>\n",
              "    </tr>\n",
              "    <tr>\n",
              "      <th>695</th>\n",
              "      <td>8.557255e+10</td>\n",
              "      <td>1528081264</td>\n",
              "      <td>0.336802</td>\n",
              "      <td>0</td>\n",
              "      <td>0</td>\n",
              "      <td>1</td>\n",
              "      <td>0</td>\n",
              "      <td>9118</td>\n",
              "      <td>47867</td>\n",
              "      <td>52061</td>\n",
              "      <td>...</td>\n",
              "      <td>60</td>\n",
              "      <td>1436</td>\n",
              "      <td>889.187500</td>\n",
              "      <td>354.434271</td>\n",
              "      <td>16</td>\n",
              "      <td>808449</td>\n",
              "      <td>531.965744</td>\n",
              "      <td>1</td>\n",
              "      <td>593</td>\n",
              "      <td>64</td>\n",
              "    </tr>\n",
              "    <tr>\n",
              "      <th>1471</th>\n",
              "      <td>6.020000e+11</td>\n",
              "      <td>1528081265</td>\n",
              "      <td>0.710930</td>\n",
              "      <td>0</td>\n",
              "      <td>1</td>\n",
              "      <td>1</td>\n",
              "      <td>0</td>\n",
              "      <td>5256</td>\n",
              "      <td>48562</td>\n",
              "      <td>51197</td>\n",
              "      <td>...</td>\n",
              "      <td>60</td>\n",
              "      <td>1320</td>\n",
              "      <td>729.666667</td>\n",
              "      <td>346.816554</td>\n",
              "      <td>12</td>\n",
              "      <td>808449</td>\n",
              "      <td>472.882887</td>\n",
              "      <td>1</td>\n",
              "      <td>591</td>\n",
              "      <td>67</td>\n",
              "    </tr>\n",
              "    <tr>\n",
              "      <th>2622</th>\n",
              "      <td>5.360000e+11</td>\n",
              "      <td>1528081266</td>\n",
              "      <td>1.266656</td>\n",
              "      <td>0</td>\n",
              "      <td>0</td>\n",
              "      <td>0</td>\n",
              "      <td>1</td>\n",
              "      <td>7897</td>\n",
              "      <td>51664</td>\n",
              "      <td>49918</td>\n",
              "      <td>...</td>\n",
              "      <td>743</td>\n",
              "      <td>969</td>\n",
              "      <td>839.666667</td>\n",
              "      <td>95.111630</td>\n",
              "      <td>3</td>\n",
              "      <td>808449</td>\n",
              "      <td>113.000000</td>\n",
              "      <td>2</td>\n",
              "      <td>592</td>\n",
              "      <td>66</td>\n",
              "    </tr>\n",
              "  </tbody>\n",
              "</table>\n",
              "<p>52114 rows × 57 columns</p>\n",
              "</div>\n",
              "    <div class=\"colab-df-buttons\">\n",
              "\n",
              "  <div class=\"colab-df-container\">\n",
              "    <button class=\"colab-df-convert\" onclick=\"convertToInteractive('df-1667b101-9628-4e37-8e70-4a7c58382fb5')\"\n",
              "            title=\"Convert this dataframe to an interactive table.\"\n",
              "            style=\"display:none;\">\n",
              "\n",
              "  <svg xmlns=\"http://www.w3.org/2000/svg\" height=\"24px\" viewBox=\"0 -960 960 960\">\n",
              "    <path d=\"M120-120v-720h720v720H120Zm60-500h600v-160H180v160Zm220 220h160v-160H400v160Zm0 220h160v-160H400v160ZM180-400h160v-160H180v160Zm440 0h160v-160H620v160ZM180-180h160v-160H180v160Zm440 0h160v-160H620v160Z\"/>\n",
              "  </svg>\n",
              "    </button>\n",
              "\n",
              "  <style>\n",
              "    .colab-df-container {\n",
              "      display:flex;\n",
              "      gap: 12px;\n",
              "    }\n",
              "\n",
              "    .colab-df-convert {\n",
              "      background-color: #E8F0FE;\n",
              "      border: none;\n",
              "      border-radius: 50%;\n",
              "      cursor: pointer;\n",
              "      display: none;\n",
              "      fill: #1967D2;\n",
              "      height: 32px;\n",
              "      padding: 0 0 0 0;\n",
              "      width: 32px;\n",
              "    }\n",
              "\n",
              "    .colab-df-convert:hover {\n",
              "      background-color: #E2EBFA;\n",
              "      box-shadow: 0px 1px 2px rgba(60, 64, 67, 0.3), 0px 1px 3px 1px rgba(60, 64, 67, 0.15);\n",
              "      fill: #174EA6;\n",
              "    }\n",
              "\n",
              "    .colab-df-buttons div {\n",
              "      margin-bottom: 4px;\n",
              "    }\n",
              "\n",
              "    [theme=dark] .colab-df-convert {\n",
              "      background-color: #3B4455;\n",
              "      fill: #D2E3FC;\n",
              "    }\n",
              "\n",
              "    [theme=dark] .colab-df-convert:hover {\n",
              "      background-color: #434B5C;\n",
              "      box-shadow: 0px 1px 3px 1px rgba(0, 0, 0, 0.15);\n",
              "      filter: drop-shadow(0px 1px 2px rgba(0, 0, 0, 0.3));\n",
              "      fill: #FFFFFF;\n",
              "    }\n",
              "  </style>\n",
              "\n",
              "    <script>\n",
              "      const buttonEl =\n",
              "        document.querySelector('#df-1667b101-9628-4e37-8e70-4a7c58382fb5 button.colab-df-convert');\n",
              "      buttonEl.style.display =\n",
              "        google.colab.kernel.accessAllowed ? 'block' : 'none';\n",
              "\n",
              "      async function convertToInteractive(key) {\n",
              "        const element = document.querySelector('#df-1667b101-9628-4e37-8e70-4a7c58382fb5');\n",
              "        const dataTable =\n",
              "          await google.colab.kernel.invokeFunction('convertToInteractive',\n",
              "                                                    [key], {});\n",
              "        if (!dataTable) return;\n",
              "\n",
              "        const docLinkHtml = 'Like what you see? Visit the ' +\n",
              "          '<a target=\"_blank\" href=https://colab.research.google.com/notebooks/data_table.ipynb>data table notebook</a>'\n",
              "          + ' to learn more about interactive tables.';\n",
              "        element.innerHTML = '';\n",
              "        dataTable['output_type'] = 'display_data';\n",
              "        await google.colab.output.renderOutput(dataTable, element);\n",
              "        const docLink = document.createElement('div');\n",
              "        docLink.innerHTML = docLinkHtml;\n",
              "        element.appendChild(docLink);\n",
              "      }\n",
              "    </script>\n",
              "  </div>\n",
              "\n",
              "\n",
              "<div id=\"df-c3f97007-b434-4b76-ac3b-ad8255a1a920\">\n",
              "  <button class=\"colab-df-quickchart\" onclick=\"quickchart('df-c3f97007-b434-4b76-ac3b-ad8255a1a920')\"\n",
              "            title=\"Suggest charts.\"\n",
              "            style=\"display:none;\">\n",
              "\n",
              "<svg xmlns=\"http://www.w3.org/2000/svg\" height=\"24px\"viewBox=\"0 0 24 24\"\n",
              "     width=\"24px\">\n",
              "    <g>\n",
              "        <path d=\"M19 3H5c-1.1 0-2 .9-2 2v14c0 1.1.9 2 2 2h14c1.1 0 2-.9 2-2V5c0-1.1-.9-2-2-2zM9 17H7v-7h2v7zm4 0h-2V7h2v10zm4 0h-2v-4h2v4z\"/>\n",
              "    </g>\n",
              "</svg>\n",
              "  </button>\n",
              "\n",
              "<style>\n",
              "  .colab-df-quickchart {\n",
              "      --bg-color: #E8F0FE;\n",
              "      --fill-color: #1967D2;\n",
              "      --hover-bg-color: #E2EBFA;\n",
              "      --hover-fill-color: #174EA6;\n",
              "      --disabled-fill-color: #AAA;\n",
              "      --disabled-bg-color: #DDD;\n",
              "  }\n",
              "\n",
              "  [theme=dark] .colab-df-quickchart {\n",
              "      --bg-color: #3B4455;\n",
              "      --fill-color: #D2E3FC;\n",
              "      --hover-bg-color: #434B5C;\n",
              "      --hover-fill-color: #FFFFFF;\n",
              "      --disabled-bg-color: #3B4455;\n",
              "      --disabled-fill-color: #666;\n",
              "  }\n",
              "\n",
              "  .colab-df-quickchart {\n",
              "    background-color: var(--bg-color);\n",
              "    border: none;\n",
              "    border-radius: 50%;\n",
              "    cursor: pointer;\n",
              "    display: none;\n",
              "    fill: var(--fill-color);\n",
              "    height: 32px;\n",
              "    padding: 0;\n",
              "    width: 32px;\n",
              "  }\n",
              "\n",
              "  .colab-df-quickchart:hover {\n",
              "    background-color: var(--hover-bg-color);\n",
              "    box-shadow: 0 1px 2px rgba(60, 64, 67, 0.3), 0 1px 3px 1px rgba(60, 64, 67, 0.15);\n",
              "    fill: var(--button-hover-fill-color);\n",
              "  }\n",
              "\n",
              "  .colab-df-quickchart-complete:disabled,\n",
              "  .colab-df-quickchart-complete:disabled:hover {\n",
              "    background-color: var(--disabled-bg-color);\n",
              "    fill: var(--disabled-fill-color);\n",
              "    box-shadow: none;\n",
              "  }\n",
              "\n",
              "  .colab-df-spinner {\n",
              "    border: 2px solid var(--fill-color);\n",
              "    border-color: transparent;\n",
              "    border-bottom-color: var(--fill-color);\n",
              "    animation:\n",
              "      spin 1s steps(1) infinite;\n",
              "  }\n",
              "\n",
              "  @keyframes spin {\n",
              "    0% {\n",
              "      border-color: transparent;\n",
              "      border-bottom-color: var(--fill-color);\n",
              "      border-left-color: var(--fill-color);\n",
              "    }\n",
              "    20% {\n",
              "      border-color: transparent;\n",
              "      border-left-color: var(--fill-color);\n",
              "      border-top-color: var(--fill-color);\n",
              "    }\n",
              "    30% {\n",
              "      border-color: transparent;\n",
              "      border-left-color: var(--fill-color);\n",
              "      border-top-color: var(--fill-color);\n",
              "      border-right-color: var(--fill-color);\n",
              "    }\n",
              "    40% {\n",
              "      border-color: transparent;\n",
              "      border-right-color: var(--fill-color);\n",
              "      border-top-color: var(--fill-color);\n",
              "    }\n",
              "    60% {\n",
              "      border-color: transparent;\n",
              "      border-right-color: var(--fill-color);\n",
              "    }\n",
              "    80% {\n",
              "      border-color: transparent;\n",
              "      border-right-color: var(--fill-color);\n",
              "      border-bottom-color: var(--fill-color);\n",
              "    }\n",
              "    90% {\n",
              "      border-color: transparent;\n",
              "      border-bottom-color: var(--fill-color);\n",
              "    }\n",
              "  }\n",
              "</style>\n",
              "\n",
              "  <script>\n",
              "    async function quickchart(key) {\n",
              "      const quickchartButtonEl =\n",
              "        document.querySelector('#' + key + ' button');\n",
              "      quickchartButtonEl.disabled = true;  // To prevent multiple clicks.\n",
              "      quickchartButtonEl.classList.add('colab-df-spinner');\n",
              "      try {\n",
              "        const charts = await google.colab.kernel.invokeFunction(\n",
              "            'suggestCharts', [key], {});\n",
              "      } catch (error) {\n",
              "        console.error('Error during call to suggestCharts:', error);\n",
              "      }\n",
              "      quickchartButtonEl.classList.remove('colab-df-spinner');\n",
              "      quickchartButtonEl.classList.add('colab-df-quickchart-complete');\n",
              "    }\n",
              "    (() => {\n",
              "      let quickchartButtonEl =\n",
              "        document.querySelector('#df-c3f97007-b434-4b76-ac3b-ad8255a1a920 button');\n",
              "      quickchartButtonEl.style.display =\n",
              "        google.colab.kernel.accessAllowed ? 'block' : 'none';\n",
              "    })();\n",
              "  </script>\n",
              "</div>\n",
              "    </div>\n",
              "  </div>\n"
            ]
          },
          "metadata": {},
          "execution_count": 52
        }
      ],
      "source": [
        "xdata = mydata[['sum_flow_duration','average_flow_duration','std_flow_duration','MQTT','HTTP','TCP','UDP','AR_P_Proto_P_SrcIP','AR_P_Proto_P_sport','AR_P_Proto_P_dport','max_flow_duration','min_flow_duration','urg_count','rst_count','Spkts','Dpkts','Sbytes','Dbytes','psh_flag_number','ack_flag_number','syn_count','fin_count','dst_ip_bytes','src_pkts','dst_pkts','Rate','Srate','Drate','TNP_per_proto_tcp','TNP_per_proto_udp','syn_flag_number','rst_flag_number','src_ip_bytes','IGMP','IPv','LLC','IAT','Magnitue','Covariance','Variance','Weight','flow_idle_time','flow_active_time','Correlation','flow_duration','Header_Length','Tot sum',\t'Min',\t'Max',\t'AVG', 'Std', 'Number',\t'MAC','Radius','Protocol_name', 'Source IP','Destination IP']]\n",
        "#xdata.head()\n",
        "#xdata=mydata.drop(axis=1, columns=['label'])\n",
        "#xdata=mydata.drop(axis=1, columns=['Protocol_name'])\n",
        "#xdata=mydata.drop(axis=1, columns=['category'])\n",
        "\n",
        "ydata=mydata['category'].values.reshape(-1,1)\n",
        "xdata"
      ]
    },
    {
      "cell_type": "code",
      "execution_count": null,
      "metadata": {
        "colab": {
          "base_uri": "https://localhost:8080/"
        },
        "id": "4SwJ8c0A_INf",
        "outputId": "c037007d-c541-4ebf-ac19-478d0650e640"
      },
      "outputs": [
        {
          "output_type": "execute_result",
          "data": {
            "text/plain": [
              "array([[1],\n",
              "       [1],\n",
              "       [1],\n",
              "       ...,\n",
              "       [1],\n",
              "       [1],\n",
              "       [1]])"
            ]
          },
          "metadata": {},
          "execution_count": 53
        }
      ],
      "source": [
        "ydata"
      ]
    },
    {
      "cell_type": "code",
      "execution_count": null,
      "metadata": {
        "id": "A1nTGHTFE_mj",
        "colab": {
          "base_uri": "https://localhost:8080/"
        },
        "outputId": "9d5c9a36-9314-484d-b989-6437a83bbfbb"
      },
      "outputs": [
        {
          "output_type": "stream",
          "name": "stdout",
          "text": [
            "[[-0.38735212  1.00032768 -0.47814502 ...  1.58097627 -0.18715157\n",
            "   0.72447025]\n",
            " [-0.12141012  1.00032768 -0.35641963 ...  1.58097627 -0.19576315\n",
            "   0.77256413]\n",
            " [-0.34898267  1.00032768 -0.37198864 ...  1.58097627 -0.18715157\n",
            "   0.72447025]\n",
            " ...\n",
            " [-0.3886497   1.00032768 -0.49203429 ...  0.3405403  -0.19576315\n",
            "   0.72447025]\n",
            " [-0.16938717  1.00032768 -0.39203195 ...  0.3405403  -0.20150421\n",
            "   0.86875189]\n",
            " [-0.19740917  1.00032768 -0.24348967 ...  1.58097627 -0.19863368\n",
            "   0.82065801]]\n"
          ]
        }
      ],
      "source": [
        "# Scaling the data\n",
        "sc = StandardScaler()\n",
        "xdata = sc.fit_transform(xdata)\n",
        "print(xdata)"
      ]
    },
    {
      "cell_type": "code",
      "execution_count": null,
      "metadata": {
        "id": "C2ov5sGnrjLx",
        "colab": {
          "base_uri": "https://localhost:8080/"
        },
        "outputId": "3516b998-2314-4e1c-9ecd-0f9adb890a88"
      },
      "outputs": [
        {
          "output_type": "execute_result",
          "data": {
            "text/plain": [
              "array([[-0.00550097,  0.99874914,  0.6067849 , ...,  1.58097627,\n",
              "        -0.19863368,  0.82065801],\n",
              "       [ 1.6936508 ,  1.00034656,  2.56683543, ...,  1.58097627,\n",
              "        -0.19863368,  0.82065801],\n",
              "       [ 0.22037328,  0.99874915,  1.24977565, ...,  1.58097627,\n",
              "        -0.19863368,  0.82065801],\n",
              "       ...,\n",
              "       [-0.41589871,  1.00032768, -0.57541722, ...,  0.3405403 ,\n",
              "        -0.20150421,  0.86875189],\n",
              "       [ 2.25409067,  1.00034655,  1.40897322, ...,  0.3405403 ,\n",
              "        -0.20150421,  0.86875189],\n",
              "       [-0.42498172, -1.00019177, -0.58205935, ..., -0.89989567,\n",
              "        -0.4139233 , -0.14121959]])"
            ]
          },
          "metadata": {},
          "execution_count": 55
        }
      ],
      "source": [
        "X_train, X_test, y_train, y_test = train_test_split(xdata,ydata,random_state=None,test_size=0.3)\n",
        "X_train"
      ]
    },
    {
      "cell_type": "markdown",
      "metadata": {
        "id": "9cpZdXNPuSi1"
      },
      "source": [
        "#Features importance"
      ]
    },
    {
      "cell_type": "code",
      "execution_count": null,
      "metadata": {
        "colab": {
          "base_uri": "https://localhost:8080/",
          "height": 1000
        },
        "id": "QxbScxgi6FFl",
        "outputId": "21319b5f-c2a0-4be6-a987-142f5896370d"
      },
      "outputs": [
        {
          "output_type": "execute_result",
          "data": {
            "text/plain": [
              "<Axes: title={'center': 'Feature importance'}, xlabel='F score', ylabel='Features'>"
            ]
          },
          "metadata": {},
          "execution_count": 56
        },
        {
          "output_type": "display_data",
          "data": {
            "text/plain": [
              "<Figure size 1000x1800 with 1 Axes>"
            ],
            "image/png": "[encoded data removed]"
          },
          "metadata": {}
        },
        {
          "output_type": "display_data",
          "data": {
            "text/plain": [
              "<Figure size 800x1100 with 1 Axes>"
            ],
            "image/png": "[encoded data removed]"
          },
          "metadata": {}
        }
      ],
      "source": [
        "# plot feature importance using built-in function\n",
        "from numpy import loadtxt\n",
        "from xgboost import plot_importance\n",
        "from matplotlib import pyplot\n",
        "# load data\n",
        "# split data into X and y\n",
        "# fit model no training data\n",
        "model = XGBClassifier()\n",
        "model.fit(X_train,y_train)\n",
        "# plot feature importance\n",
        "fig, ax = plt.subplots(figsize=(10,18))\n",
        "xgb.plot_importance(model, ax=ax,max_num_features=None)\n",
        "fig,ax2 = plt.subplots(figsize=(8,11))\n",
        "xgb.plot_importance(model, importance_type='gain', ax=ax2)\n",
        "#plot_importance(model,)\n",
        "#pyplot.show()"
      ]
    },
    {
      "cell_type": "code",
      "execution_count": null,
      "metadata": {
        "id": "3BhdfsAUGH1V"
      },
      "outputs": [],
      "source": [
        "xxdata=mydata[['AR_P_Proto_P_sport','AR_P_Proto_P_dport', 'AR_P_Proto_P_SrcIP','average_flow_duration','dst_ip_bytes','Sbytes','UDP','sum_flow_duration', 'Destination IP','flow_idle_time']]"
      ]
    },
    {
      "cell_type": "code",
      "execution_count": null,
      "metadata": {
        "id": "iSNMjwxpGs3j",
        "colab": {
          "base_uri": "https://localhost:8080/"
        },
        "outputId": "7b2b733f-1c2a-4ef0-b351-18f29972260f"
      },
      "outputs": [
        {
          "output_type": "stream",
          "name": "stdout",
          "text": [
            "[[-0.38735212  1.00032768 -0.47814502 ...  1.58097627 -0.18715157\n",
            "   0.72447025]\n",
            " [-0.12141012  1.00032768 -0.35641963 ...  1.58097627 -0.19576315\n",
            "   0.77256413]\n",
            " [-0.34898267  1.00032768 -0.37198864 ...  1.58097627 -0.18715157\n",
            "   0.72447025]\n",
            " ...\n",
            " [-0.3886497   1.00032768 -0.49203429 ...  0.3405403  -0.19576315\n",
            "   0.72447025]\n",
            " [-0.16938717  1.00032768 -0.39203195 ...  0.3405403  -0.20150421\n",
            "   0.86875189]\n",
            " [-0.19740917  1.00032768 -0.24348967 ...  1.58097627 -0.19863368\n",
            "   0.82065801]]\n"
          ]
        }
      ],
      "source": [
        "# Scaling the data\n",
        "sc = StandardScaler()\n",
        "xxdata = sc.fit_transform(xdata)\n",
        "print(xxdata)"
      ]
    },
    {
      "cell_type": "code",
      "execution_count": null,
      "metadata": {
        "id": "60P-ejLbG_8Q",
        "colab": {
          "base_uri": "https://localhost:8080/"
        },
        "outputId": "9382ae7d-a35b-4650-d8ab-0d4c1f5ee451"
      },
      "outputs": [
        {
          "output_type": "execute_result",
          "data": {
            "text/plain": [
              "array([[-4.24981717e-01, -1.00019177e+00, -5.82059351e-01, ...,\n",
              "        -8.99895665e-01,  1.34571053e+00, -1.00690943e+00],\n",
              "       [ 3.56237489e-01,  1.00032768e+00,  3.10110431e-04, ...,\n",
              "         3.40540304e-01, -2.01504210e-01,  8.68751888e-01],\n",
              "       [-3.04402231e-01,  9.98749139e-01,  7.03563291e-02, ...,\n",
              "         3.40540304e-01, -1.98633682e-01,  8.20658008e-01],\n",
              "       ...,\n",
              "       [-4.24981717e-01, -1.00019177e+00, -5.82059351e-01, ...,\n",
              "        -8.99895665e-01,  2.06334259e+00, -4.77876754e-01],\n",
              "       [ 3.47745976e-01,  9.98749152e-01,  1.61357647e+00, ...,\n",
              "         3.40540304e-01, -2.01504210e-01,  8.68751888e-01],\n",
              "       [-4.24981717e-01, -1.00019177e+00, -5.82059351e-01, ...,\n",
              "        -8.99895665e-01,  1.95139199e+00, -2.20925644e+00]])"
            ]
          },
          "metadata": {},
          "execution_count": 59
        }
      ],
      "source": [
        "XX_train, XX_test, yy_train, yy_test = train_test_split(xxdata,ydata,random_state=None,test_size=0.3)\n",
        "XX_train"
      ]
    },
    {
      "cell_type": "markdown",
      "metadata": {
        "id": "vyoiE4d0oRyZ"
      },
      "source": [
        "#Modeling /Train-Test-Evaluate\n"
      ]
    },
    {
      "cell_type": "code",
      "execution_count": null,
      "metadata": {
        "colab": {
          "base_uri": "https://localhost:8080/"
        },
        "id": "Qauws0GlAwqG",
        "outputId": "74dc6e5d-230a-4dc6-fb16-cfaa3a552c19"
      },
      "outputs": [
        {
          "output_type": "stream",
          "name": "stderr",
          "text": [
            "/usr/local/lib/python3.10/dist-packages/sklearn/base.py:1152: DataConversionWarning: A column-vector y was passed when a 1d array was expected. Please change the shape of y to (n_samples,), for example using ravel().\n",
            "  return fit_method(estimator, *args, **kwargs)\n"
          ]
        },
        {
          "output_type": "stream",
          "name": "stdout",
          "text": [
            "              precision    recall  f1-score   support\n",
            "\n",
            "           0   1.000000  1.000000  1.000000      2610\n",
            "           1   1.000000  1.000000  1.000000      2626\n",
            "           2   1.000000  1.000000  1.000000      2613\n",
            "           3   0.998065  0.980608  0.989260      2630\n",
            "           4   0.980638  1.000000  0.990224      2583\n",
            "           5   1.000000  0.998057  0.999027      2573\n",
            "\n",
            "    accuracy                       0.996418     15635\n",
            "   macro avg   0.996450  0.996444  0.996419     15635\n",
            "weighted avg   0.996476  0.996418  0.996418     15635\n",
            "\n"
          ]
        }
      ],
      "source": [
        "\n",
        "#Random Forest\n",
        "class RandomForest:\n",
        "    def __init__(self,max_depth):\n",
        "        self.rfc_category = RandomForestClassifier(max_depth=max_depth)\n",
        "\n",
        "\n",
        "\n",
        "    def fit(self,XX_train,yy_train):\n",
        "        self.rfc_category.fit(XX_train,yy_train)\n",
        "    def predict(self,XX_test):\n",
        "        predict_attack = self.rfc_category.predict(XX_test)\n",
        "\n",
        "\n",
        "\n",
        "        return pd.DataFrame({'attack':predict_attack})\n",
        "rf = RandomForest(max_depth=3)\n",
        "rf.fit(XX_train,yy_train)\n",
        "\n",
        "predictions_rfc = rf.predict(XX_test)\n",
        "print(classification_report(yy_test,predictions_rfc, digits=6))\n"
      ]
    },
    {
      "cell_type": "code",
      "execution_count": null,
      "metadata": {
        "colab": {
          "base_uri": "https://localhost:8080/"
        },
        "id": "ltU2fsw1dNRr",
        "outputId": "cf67c8d3-b58e-4d25-ce93-17b5817230ac"
      },
      "outputs": [
        {
          "output_type": "stream",
          "name": "stdout",
          "text": [
            "              precision    recall  f1-score   support\n",
            "\n",
            "           0   1.000000  1.000000  1.000000      2610\n",
            "           1   1.000000  1.000000  1.000000      2626\n",
            "           2   1.000000  1.000000  1.000000      2613\n",
            "           3   0.993325  0.961977  0.977400      2630\n",
            "           4   0.962491  0.993419  0.977710      2583\n",
            "           5   1.000000  1.000000  1.000000      2573\n",
            "\n",
            "    accuracy                       0.992517     15635\n",
            "   macro avg   0.992636  0.992566  0.992518     15635\n",
            "weighted avg   0.992680  0.992517  0.992516     15635\n",
            "\n",
            "CPU times: user 158 ms, sys: 2.65 ms, total: 161 ms\n",
            "Wall time: 283 ms\n"
          ]
        }
      ],
      "source": [
        "%%time\n",
        "#Descision Tree\n",
        "# importing necessary libraries\n",
        "from sklearn import datasets\n",
        "from sklearn.metrics import confusion_matrix\n",
        "from sklearn.model_selection import train_test_split\n",
        "# training a DescisionTreeClassifier\n",
        "from sklearn.tree import DecisionTreeClassifier\n",
        "dtree_model = DecisionTreeClassifier (max_depth=8, criterion=\"gini\", min_samples_split=2, splitter=\"random\", min_samples_leaf=2).fit(XX_train, yy_train)\n",
        "dtree_predictions = dtree_model.predict(XX_test)\n",
        "\n",
        "# creating a classification_report\n",
        "\n",
        "print(classification_report(yy_test,dtree_predictions, digits=6))"
      ]
    },
    {
      "cell_type": "code",
      "execution_count": null,
      "metadata": {
        "colab": {
          "base_uri": "https://localhost:8080/"
        },
        "id": "98B0iWB4nG6W",
        "outputId": "99732f9c-5368-4763-d974-a934b2726c73"
      },
      "outputs": [
        {
          "data": {
            "text/plain": [
              "array([0, 1, 2, 3, 4, 5])"
            ]
          },
          "execution_count": 42,
          "metadata": {},
          "output_type": "execute_result"
        }
      ],
      "source": [
        "np.unique(predictions_rfc)"
      ]
    },
    {
      "cell_type": "code",
      "execution_count": null,
      "metadata": {
        "colab": {
          "base_uri": "https://localhost:8080/"
        },
        "id": "pV1_f-PenLwi",
        "outputId": "84c82e9b-6706-4030-c4f4-253eb207d0b5"
      },
      "outputs": [
        {
          "data": {
            "text/plain": [
              "array([0, 1, 2, 3, 4, 5])"
            ]
          },
          "execution_count": 43,
          "metadata": {},
          "output_type": "execute_result"
        }
      ],
      "source": [
        "np.unique(y_test)"
      ]
    },
    {
      "cell_type": "code",
      "execution_count": null,
      "metadata": {
        "colab": {
          "base_uri": "https://localhost:8080/"
        },
        "id": "y9uLmzW8kh9g",
        "outputId": "9597eda6-f59b-498d-f69d-071dad42cd94"
      },
      "outputs": [
        {
          "output_type": "stream",
          "name": "stdout",
          "text": [
            "              precision    recall  f1-score   support\n",
            "\n",
            "           0   0.996944  0.989011  0.992962      2639\n",
            "           1   0.998864  1.000000  0.999432      2638\n",
            "           2   0.989065  0.995824  0.992433      2634\n",
            "           3   0.943598  0.957093  0.950297      2587\n",
            "           4   0.949323  0.957098  0.953195      2564\n",
            "           5   1.000000  0.977458  0.988601      2573\n",
            "\n",
            "    accuracy                       0.979597     15635\n",
            "   macro avg   0.979632  0.979414  0.979487     15635\n",
            "weighted avg   0.979807  0.979597  0.979666     15635\n",
            "\n",
            "CPU times: user 43.6 s, sys: 282 ms, total: 43.9 s\n",
            "Wall time: 43.7 s\n"
          ]
        }
      ],
      "source": [
        "%%time\n",
        "# training a linear SVM classifier\n",
        "from sklearn.svm import SVC\n",
        "svm_model_linear = SVC(C = 1.0).fit(XX_train, yy_train.ravel())\n",
        "svm_predictions = svm_model_linear.predict(XX_test)\n",
        "\n",
        "# model accuracy for X_test\n",
        "accuracy = svm_model_linear.score(XX_test, yy_test.ravel())\n",
        "\n",
        "# creating a classification_report\n",
        "print(classification_report(yy_test.ravel(),svm_predictions, digits=6))"
      ]
    },
    {
      "cell_type": "code",
      "execution_count": null,
      "metadata": {
        "colab": {
          "base_uri": "https://localhost:8080/"
        },
        "id": "nJo-Yxe6SNAQ",
        "outputId": "8cb329b3-a514-421b-af95-bd322b3e848c"
      },
      "outputs": [
        {
          "output_type": "stream",
          "name": "stderr",
          "text": [
            "/usr/local/lib/python3.8/dist-packages/sklearn/preprocessing/_label.py:99: DataConversionWarning: A column-vector y was passed when a 1d array was expected. Please change the shape of y to (n_samples, ), for example using ravel().\n",
            "  y = column_or_1d(y, warn=True)\n",
            "/usr/local/lib/python3.8/dist-packages/sklearn/preprocessing/_label.py:134: DataConversionWarning: A column-vector y was passed when a 1d array was expected. Please change the shape of y to (n_samples, ), for example using ravel().\n",
            "  y = column_or_1d(y, dtype=self.classes_.dtype, warn=True)\n"
          ]
        },
        {
          "output_type": "stream",
          "name": "stdout",
          "text": [
            "              precision    recall  f1-score   support\n",
            "\n",
            "           0    1.00000   1.00000   1.00000      2639\n",
            "           1    1.00000   1.00000   1.00000      2638\n",
            "           2    1.00000   1.00000   1.00000      2634\n",
            "           3    1.00000   1.00000   1.00000      2587\n",
            "           4    1.00000   1.00000   1.00000      2564\n",
            "           5    1.00000   1.00000   1.00000      2573\n",
            "\n",
            "    accuracy                        1.00000     15635\n",
            "   macro avg    1.00000   1.00000   1.00000     15635\n",
            "weighted avg    1.00000   1.00000   1.00000     15635\n",
            "\n"
          ]
        }
      ],
      "source": [
        "class GradientBoost:\n",
        "    def __init__(self, learning_rate, min_samples_split):\n",
        "        self.xgb_category = XGBClassifier(learning_rate=learning_rate, min_samples_split= min_samples_split)\n",
        "\n",
        "    def fit(self,XX_train,yy_train):\n",
        "        self.xgb_category.fit(XX_train,yy_train)\n",
        "    def predict(self,XX_test):\n",
        "          predict_attack = self.xgb_category.predict(XX_test)\n",
        "          return pd.DataFrame({'attack':predict_attack})\n",
        "xgb = GradientBoost(learning_rate=0.1, min_samples_split= 3)\n",
        "xgb.fit(XX_train,yy_train)\n",
        "predictions_xgb = xgb.predict(XX_test)\n",
        "print(classification_report(yy_test,predictions_xgb, digits=5))"
      ]
    },
    {
      "cell_type": "code",
      "execution_count": null,
      "metadata": {
        "colab": {
          "base_uri": "https://localhost:8080/"
        },
        "id": "eqk0F8GFuOJH",
        "outputId": "1ef3673b-f46f-46f5-ba60-4c23ebed8233"
      },
      "outputs": [
        {
          "output_type": "stream",
          "name": "stdout",
          "text": [
            "CPU times: user 3 µs, sys: 0 ns, total: 3 µs\n",
            "Wall time: 7.87 µs\n"
          ]
        },
        {
          "output_type": "stream",
          "name": "stderr",
          "text": [
            "/usr/local/lib/python3.8/dist-packages/sklearn/neighbors/_classification.py:215: DataConversionWarning: A column-vector y was passed when a 1d array was expected. Please change the shape of y to (n_samples,), for example using ravel().\n",
            "  return self._fit(X, y)\n"
          ]
        },
        {
          "output_type": "stream",
          "name": "stdout",
          "text": [
            "0.9884234090182283\n",
            "              precision    recall  f1-score   support\n",
            "\n",
            "           0    0.99613   0.97461   0.98525      2639\n",
            "           1    0.98389   0.99545   0.98964      2638\n",
            "           2    0.97519   0.98481   0.97998      2634\n",
            "           3    0.98432   0.99459   0.98943      2587\n",
            "           4    0.99727   0.99805   0.99766      2564\n",
            "           5    0.99450   0.98329   0.98886      2573\n",
            "\n",
            "    accuracy                        0.98842     15635\n",
            "   macro avg    0.98855   0.98847   0.98847     15635\n",
            "weighted avg    0.98850   0.98842   0.98842     15635\n",
            "\n"
          ]
        }
      ],
      "source": [
        "%time\n",
        "# importing necessary libraries\n",
        "from sklearn import datasets\n",
        "\n",
        "\n",
        "# training a KNN classifier\n",
        "from sklearn.neighbors import KNeighborsClassifier\n",
        "knn = KNeighborsClassifier(n_neighbors = 3).fit(XX_train, yy_train)\n",
        "\n",
        "# accuracy on X_test\n",
        "accuracy = knn.score(XX_test, yy_test)\n",
        "print (accuracy)\n",
        "\n",
        "# creating a confusion matrix\n",
        "knn_predictions = knn.predict(XX_test)\n",
        "from sklearn.metrics import precision_score\n",
        "print(classification_report(yy_test,knn_predictions, digits=5))"
      ]
    },
    {
      "cell_type": "markdown",
      "metadata": {
        "id": "lk7O67X5kLJJ"
      },
      "source": []
    },
    {
      "cell_type": "code",
      "execution_count": null,
      "metadata": {
        "colab": {
          "base_uri": "https://localhost:8080/"
        },
        "id": "uj5cVH9n5IfC",
        "outputId": "d2170239-bb85-410c-9ee1-81272ab23317"
      },
      "outputs": [
        {
          "output_type": "stream",
          "name": "stderr",
          "text": [
            "/usr/local/lib/python3.8/dist-packages/sklearn/utils/validation.py:1143: DataConversionWarning: A column-vector y was passed when a 1d array was expected. Please change the shape of y to (n_samples, ), for example using ravel().\n",
            "  y = column_or_1d(y, warn=True)\n"
          ]
        },
        {
          "output_type": "stream",
          "name": "stdout",
          "text": [
            "              precision    recall  f1-score   support\n",
            "\n",
            "           0   1.000000  0.999242  0.999621      2639\n",
            "           1   1.000000  1.000000  1.000000      2638\n",
            "           2   0.999620  1.000000  0.999810      2634\n",
            "           3   0.948919  0.933514  0.941154      2587\n",
            "           4   0.934175  0.952028  0.943017      2564\n",
            "           5   0.999610  0.997279  0.998444      2573\n",
            "\n",
            "    accuracy                       0.980556     15635\n",
            "   macro avg   0.980388  0.980344  0.980341     15635\n",
            "weighted avg   0.980625  0.980556  0.980566     15635\n",
            "\n"
          ]
        }
      ],
      "source": [
        "from sklearn.linear_model import LogisticRegression\n",
        "clf = LogisticRegression(random_state=0).fit(XX_train, yy_train)\n",
        "xxx= clf.predict(XX_test)\n",
        "clf.predict_proba(XX_test)\n",
        "clf.score(XX_test,yy_test)\n",
        "# creating a classification_report\n",
        "print(classification_report(yy_test.ravel(),xxx, digits=6))"
      ]
    },
    {
      "cell_type": "code",
      "execution_count": null,
      "metadata": {
        "colab": {
          "base_uri": "https://localhost:8080/"
        },
        "id": "QO2iYRluP6JS",
        "outputId": "08c0b610-6e4a-449e-b0c8-6aba8650ab27"
      },
      "outputs": [
        {
          "output_type": "stream",
          "name": "stdout",
          "text": [
            "              precision    recall  f1-score   support\n",
            "\n",
            "           0    0.85682   0.89682   0.87637      2549\n",
            "           1    0.94061   0.97440   0.95721      2617\n",
            "           2    0.89003   0.81825   0.85263      2641\n",
            "           3    0.50042   0.45458   0.47640      2598\n",
            "           4    0.83370   0.73087   0.77890      2627\n",
            "           5    0.62812   0.76373   0.68932      2603\n",
            "\n",
            "    accuracy                        0.77301     15635\n",
            "   macro avg    0.77495   0.77311   0.77181     15635\n",
            "weighted avg    0.77527   0.77301   0.77191     15635\n",
            "\n"
          ]
        },
        {
          "output_type": "stream",
          "name": "stderr",
          "text": [
            "/usr/local/lib/python3.8/dist-packages/sklearn/utils/validation.py:1141: DataConversionWarning: A column-vector y was passed when a 1d array was expected. Please change the shape of y to (n_samples, ), for example using ravel().\n",
            "  y = column_or_1d(y, warn=True)\n"
          ]
        }
      ],
      "source": [
        "class NaiveBayes:\n",
        "    def __init__(self,alpha, binarize):\n",
        "        self.nb_category = BernoulliNB(alpha=alpha, binarize=binarize)\n",
        "    def fit(self,X_train,y_train):\n",
        "        self.nb_category.fit(X_train,y_train)\n",
        "\n",
        "    def predict(self,X_test):\n",
        "        predict_attack = self.nb_category.predict(X_test)\n",
        "\n",
        "        return pd.DataFrame({'attack':predict_attack})\n",
        "        predict_attack = self.xgb_category.predict(X_test)\n",
        "        return pd.DataFrame({'attack':predict_attack})\n",
        "gus = BernoulliNB(alpha=1.0, binarize=0.0)\n",
        "gus.fit(X_train,y_train)\n",
        "predictions_gus = gus.predict(X_test)\n",
        "print(classification_report(y_test,predictions_gus, digits=5))"
      ]
    },
    {
      "cell_type": "markdown",
      "metadata": {
        "id": "Sm8U1JJl7yFl"
      },
      "source": [
        "#ensembling Voting classifier"
      ]
    },
    {
      "cell_type": "markdown",
      "metadata": {
        "id": "ZInGdbjyXxAj"
      },
      "source": [
        "Hard Voting"
      ]
    },
    {
      "cell_type": "code",
      "execution_count": null,
      "metadata": {
        "id": "7wKpyOfz4Wzf"
      },
      "outputs": [],
      "source": [
        "from sklearn.ensemble import RandomForestClassifier\n",
        "from sklearn.ensemble import VotingClassifier\n",
        "from sklearn.linear_model import LogisticRegression\n",
        "from sklearn.svm import SVC\n",
        "from sklearn.neighbors import KNeighborsClassifier\n",
        "from sklearn.tree import DecisionTreeClassifier\n",
        "\n",
        "\n",
        "log_clf = LogisticRegression(solver=\"lbfgs\", random_state=42)\n",
        "rnd_clf = RandomForestClassifier(n_estimators=100, random_state=42)\n",
        "svm_clf = SVC(gamma=\"scale\", random_state=42)\n",
        "DT_clf= DecisionTreeClassifier(max_depth=8,criterion=\"gini\", min_samples_split=2, splitter=\"random\", min_samples_leaf=2)\n",
        "xgb_clf= XGBClassifier(learning_rate=0.1,min_samples_split=2)\n",
        "voting_clf = VotingClassifier(\n",
        "    estimators=[('lr', log_clf), ('rf', rnd_clf), ('svc', svm_clf),('tree', DT_clf),('xgb', xgb_clf)],\n",
        "    voting='hard')"
      ]
    },
    {
      "cell_type": "code",
      "execution_count": null,
      "metadata": {
        "colab": {
          "base_uri": "https://localhost:8080/",
          "height": 201
        },
        "id": "46J6P36j4X1K",
        "outputId": "857c5961-55ec-46ab-8c14-df24fbec9618"
      },
      "outputs": [
        {
          "output_type": "stream",
          "name": "stderr",
          "text": [
            "/usr/local/lib/python3.8/dist-packages/sklearn/preprocessing/_label.py:99: DataConversionWarning: A column-vector y was passed when a 1d array was expected. Please change the shape of y to (n_samples, ), for example using ravel().\n",
            "  y = column_or_1d(y, warn=True)\n",
            "/usr/local/lib/python3.8/dist-packages/sklearn/preprocessing/_label.py:134: DataConversionWarning: A column-vector y was passed when a 1d array was expected. Please change the shape of y to (n_samples, ), for example using ravel().\n",
            "  y = column_or_1d(y, dtype=self.classes_.dtype, warn=True)\n"
          ]
        },
        {
          "output_type": "execute_result",
          "data": {
            "text/plain": [
              "VotingClassifier(estimators=[('lr', LogisticRegression(random_state=42)),\n",
              "                             ('rf', RandomForestClassifier(random_state=42)),\n",
              "                             ('svc', SVC(random_state=42)),\n",
              "                             ('tree',\n",
              "                              DecisionTreeClassifier(max_depth=8,\n",
              "                                                     min_samples_leaf=2,\n",
              "                                                     splitter='random')),\n",
              "                             ('xgb', XGBClassifier(min_samples_split=2))])"
            ],
            "text/html": [
              "<style>#sk-container-id-1 {color: black;background-color: white;}#sk-container-id-1 pre{padding: 0;}#sk-container-id-1 div.sk-toggleable {background-color: white;}#sk-container-id-1 label.sk-toggleable__label {cursor: pointer;display: block;width: 100%;margin-bottom: 0;padding: 0.3em;box-sizing: border-box;text-align: center;}#sk-container-id-1 label.sk-toggleable__label-arrow:before {content: \"▸\";float: left;margin-right: 0.25em;color: #696969;}#sk-container-id-1 label.sk-toggleable__label-arrow:hover:before {color: black;}#sk-container-id-1 div.sk-estimator:hover label.sk-toggleable__label-arrow:before {color: black;}#sk-container-id-1 div.sk-toggleable__content {max-height: 0;max-width: 0;overflow: hidden;text-align: left;background-color: #f0f8ff;}#sk-container-id-1 div.sk-toggleable__content pre {margin: 0.2em;color: black;border-radius: 0.25em;background-color: #f0f8ff;}#sk-container-id-1 input.sk-toggleable__control:checked~div.sk-toggleable__content {max-height: 200px;max-width: 100%;overflow: auto;}#sk-container-id-1 input.sk-toggleable__control:checked~label.sk-toggleable__label-arrow:before {content: \"▾\";}#sk-container-id-1 div.sk-estimator input.sk-toggleable__control:checked~label.sk-toggleable__label {background-color: #d4ebff;}#sk-container-id-1 div.sk-label input.sk-toggleable__control:checked~label.sk-toggleable__label {background-color: #d4ebff;}#sk-container-id-1 input.sk-hidden--visually {border: 0;clip: rect(1px 1px 1px 1px);clip: rect(1px, 1px, 1px, 1px);height: 1px;margin: -1px;overflow: hidden;padding: 0;position: absolute;width: 1px;}#sk-container-id-1 div.sk-estimator {font-family: monospace;background-color: #f0f8ff;border: 1px dotted black;border-radius: 0.25em;box-sizing: border-box;margin-bottom: 0.5em;}#sk-container-id-1 div.sk-estimator:hover {background-color: #d4ebff;}#sk-container-id-1 div.sk-parallel-item::after {content: \"\";width: 100%;border-bottom: 1px solid gray;flex-grow: 1;}#sk-container-id-1 div.sk-label:hover label.sk-toggleable__label {background-color: #d4ebff;}#sk-container-id-1 div.sk-serial::before {content: \"\";position: absolute;border-left: 1px solid gray;box-sizing: border-box;top: 0;bottom: 0;left: 50%;z-index: 0;}#sk-container-id-1 div.sk-serial {display: flex;flex-direction: column;align-items: center;background-color: white;padding-right: 0.2em;padding-left: 0.2em;position: relative;}#sk-container-id-1 div.sk-item {position: relative;z-index: 1;}#sk-container-id-1 div.sk-parallel {display: flex;align-items: stretch;justify-content: center;background-color: white;position: relative;}#sk-container-id-1 div.sk-item::before, #sk-container-id-1 div.sk-parallel-item::before {content: \"\";position: absolute;border-left: 1px solid gray;box-sizing: border-box;top: 0;bottom: 0;left: 50%;z-index: -1;}#sk-container-id-1 div.sk-parallel-item {display: flex;flex-direction: column;z-index: 1;position: relative;background-color: white;}#sk-container-id-1 div.sk-parallel-item:first-child::after {align-self: flex-end;width: 50%;}#sk-container-id-1 div.sk-parallel-item:last-child::after {align-self: flex-start;width: 50%;}#sk-container-id-1 div.sk-parallel-item:only-child::after {width: 0;}#sk-container-id-1 div.sk-dashed-wrapped {border: 1px dashed gray;margin: 0 0.4em 0.5em 0.4em;box-sizing: border-box;padding-bottom: 0.4em;background-color: white;}#sk-container-id-1 div.sk-label label {font-family: monospace;font-weight: bold;display: inline-block;line-height: 1.2em;}#sk-container-id-1 div.sk-label-container {text-align: center;}#sk-container-id-1 div.sk-container {/* jupyter's `normalize.less` sets `[hidden] { display: none; }` but bootstrap.min.css set `[hidden] { display: none !important; }` so we also need the `!important` here to be able to override the default hidden behavior on the sphinx rendered scikit-learn.org. See: https://github.com/scikit-learn/scikit-learn/issues/21755 */display: inline-block !important;position: relative;}#sk-container-id-1 div.sk-text-repr-fallback {display: none;}</style><div id=\"sk-container-id-1\" class=\"sk-top-container\"><div class=\"sk-text-repr-fallback\"><pre>VotingClassifier(estimators=[(&#x27;lr&#x27;, LogisticRegression(random_state=42)),\n",
              "                             (&#x27;rf&#x27;, RandomForestClassifier(random_state=42)),\n",
              "                             (&#x27;svc&#x27;, SVC(random_state=42)),\n",
              "                             (&#x27;tree&#x27;,\n",
              "                              DecisionTreeClassifier(max_depth=8,\n",
              "                                                     min_samples_leaf=2,\n",
              "                                                     splitter=&#x27;random&#x27;)),\n",
              "                             (&#x27;xgb&#x27;, XGBClassifier(min_samples_split=2))])</pre><b>In a Jupyter environment, please rerun this cell to show the HTML representation or trust the notebook. <br />On GitHub, the HTML representation is unable to render, please try loading this page with nbviewer.org.</b></div><div class=\"sk-container\" hidden><div class=\"sk-item sk-dashed-wrapped\"><div class=\"sk-label-container\"><div class=\"sk-label sk-toggleable\"><input class=\"sk-toggleable__control sk-hidden--visually\" id=\"sk-estimator-id-1\" type=\"checkbox\" ><label for=\"sk-estimator-id-1\" class=\"sk-toggleable__label sk-toggleable__label-arrow\">VotingClassifier</label><div class=\"sk-toggleable__content\"><pre>VotingClassifier(estimators=[(&#x27;lr&#x27;, LogisticRegression(random_state=42)),\n",
              "                             (&#x27;rf&#x27;, RandomForestClassifier(random_state=42)),\n",
              "                             (&#x27;svc&#x27;, SVC(random_state=42)),\n",
              "                             (&#x27;tree&#x27;,\n",
              "                              DecisionTreeClassifier(max_depth=8,\n",
              "                                                     min_samples_leaf=2,\n",
              "                                                     splitter=&#x27;random&#x27;)),\n",
              "                             (&#x27;xgb&#x27;, XGBClassifier(min_samples_split=2))])</pre></div></div></div><div class=\"sk-parallel\"><div class=\"sk-parallel-item\"><div class=\"sk-item\"><div class=\"sk-label-container\"><div class=\"sk-label sk-toggleable\"><label>lr</label></div></div><div class=\"sk-serial\"><div class=\"sk-item\"><div class=\"sk-estimator sk-toggleable\"><input class=\"sk-toggleable__control sk-hidden--visually\" id=\"sk-estimator-id-2\" type=\"checkbox\" ><label for=\"sk-estimator-id-2\" class=\"sk-toggleable__label sk-toggleable__label-arrow\">LogisticRegression</label><div class=\"sk-toggleable__content\"><pre>LogisticRegression(random_state=42)</pre></div></div></div></div></div></div><div class=\"sk-parallel-item\"><div class=\"sk-item\"><div class=\"sk-label-container\"><div class=\"sk-label sk-toggleable\"><label>rf</label></div></div><div class=\"sk-serial\"><div class=\"sk-item\"><div class=\"sk-estimator sk-toggleable\"><input class=\"sk-toggleable__control sk-hidden--visually\" id=\"sk-estimator-id-3\" type=\"checkbox\" ><label for=\"sk-estimator-id-3\" class=\"sk-toggleable__label sk-toggleable__label-arrow\">RandomForestClassifier</label><div class=\"sk-toggleable__content\"><pre>RandomForestClassifier(random_state=42)</pre></div></div></div></div></div></div><div class=\"sk-parallel-item\"><div class=\"sk-item\"><div class=\"sk-label-container\"><div class=\"sk-label sk-toggleable\"><label>svc</label></div></div><div class=\"sk-serial\"><div class=\"sk-item\"><div class=\"sk-estimator sk-toggleable\"><input class=\"sk-toggleable__control sk-hidden--visually\" id=\"sk-estimator-id-4\" type=\"checkbox\" ><label for=\"sk-estimator-id-4\" class=\"sk-toggleable__label sk-toggleable__label-arrow\">SVC</label><div class=\"sk-toggleable__content\"><pre>SVC(random_state=42)</pre></div></div></div></div></div></div><div class=\"sk-parallel-item\"><div class=\"sk-item\"><div class=\"sk-label-container\"><div class=\"sk-label sk-toggleable\"><label>tree</label></div></div><div class=\"sk-serial\"><div class=\"sk-item\"><div class=\"sk-estimator sk-toggleable\"><input class=\"sk-toggleable__control sk-hidden--visually\" id=\"sk-estimator-id-5\" type=\"checkbox\" ><label for=\"sk-estimator-id-5\" class=\"sk-toggleable__label sk-toggleable__label-arrow\">DecisionTreeClassifier</label><div class=\"sk-toggleable__content\"><pre>DecisionTreeClassifier(max_depth=8, min_samples_leaf=2, splitter=&#x27;random&#x27;)</pre></div></div></div></div></div></div><div class=\"sk-parallel-item\"><div class=\"sk-item\"><div class=\"sk-label-container\"><div class=\"sk-label sk-toggleable\"><label>xgb</label></div></div><div class=\"sk-serial\"><div class=\"sk-item\"><div class=\"sk-estimator sk-toggleable\"><input class=\"sk-toggleable__control sk-hidden--visually\" id=\"sk-estimator-id-6\" type=\"checkbox\" ><label for=\"sk-estimator-id-6\" class=\"sk-toggleable__label sk-toggleable__label-arrow\">XGBClassifier</label><div class=\"sk-toggleable__content\"><pre>XGBClassifier(min_samples_split=2)</pre></div></div></div></div></div></div></div></div></div></div>"
            ]
          },
          "metadata": {},
          "execution_count": 38
        }
      ],
      "source": [
        "voting_clf.fit(XX_train, yy_train)"
      ]
    },
    {
      "cell_type": "code",
      "execution_count": null,
      "metadata": {
        "colab": {
          "base_uri": "https://localhost:8080/"
        },
        "id": "2qaORNy-4m5X",
        "outputId": "8823caab-5455-429c-dd92-184427f5577c"
      },
      "outputs": [
        {
          "output_type": "stream",
          "name": "stderr",
          "text": [
            "/usr/local/lib/python3.8/dist-packages/sklearn/utils/validation.py:1143: DataConversionWarning: A column-vector y was passed when a 1d array was expected. Please change the shape of y to (n_samples, ), for example using ravel().\n",
            "  y = column_or_1d(y, warn=True)\n"
          ]
        },
        {
          "output_type": "stream",
          "name": "stdout",
          "text": [
            "LogisticRegression 0.9805564438759194\n",
            "              precision    recall  f1-score   support\n",
            "\n",
            "           0   1.000000  0.999242  0.999621      2639\n",
            "           1   1.000000  1.000000  1.000000      2638\n",
            "           2   0.999620  1.000000  0.999810      2634\n",
            "           3   0.948919  0.933514  0.941154      2587\n",
            "           4   0.934175  0.952028  0.943017      2564\n",
            "           5   0.999610  0.997279  0.998444      2573\n",
            "\n",
            "    accuracy                       0.980556     15635\n",
            "   macro avg   0.980388  0.980344  0.980341     15635\n",
            "weighted avg   0.980625  0.980556  0.980566     15635\n",
            "\n"
          ]
        },
        {
          "output_type": "stream",
          "name": "stderr",
          "text": [
            "<ipython-input-39-03b07ebf8914>:4: DataConversionWarning: A column-vector y was passed when a 1d array was expected. Please change the shape of y to (n_samples,), for example using ravel().\n",
            "  clf.fit(XX_train, yy_train)\n"
          ]
        },
        {
          "output_type": "stream",
          "name": "stdout",
          "text": [
            "RandomForestClassifier 1.0\n",
            "              precision    recall  f1-score   support\n",
            "\n",
            "           0   1.000000  1.000000  1.000000      2639\n",
            "           1   1.000000  1.000000  1.000000      2638\n",
            "           2   1.000000  1.000000  1.000000      2634\n",
            "           3   1.000000  1.000000  1.000000      2587\n",
            "           4   1.000000  1.000000  1.000000      2564\n",
            "           5   1.000000  1.000000  1.000000      2573\n",
            "\n",
            "    accuracy                       1.000000     15635\n",
            "   macro avg   1.000000  1.000000  1.000000     15635\n",
            "weighted avg   1.000000  1.000000  1.000000     15635\n",
            "\n"
          ]
        },
        {
          "output_type": "stream",
          "name": "stderr",
          "text": [
            "/usr/local/lib/python3.8/dist-packages/sklearn/utils/validation.py:1143: DataConversionWarning: A column-vector y was passed when a 1d array was expected. Please change the shape of y to (n_samples, ), for example using ravel().\n",
            "  y = column_or_1d(y, warn=True)\n"
          ]
        },
        {
          "output_type": "stream",
          "name": "stdout",
          "text": [
            "SVC 0.9795970578829549\n",
            "              precision    recall  f1-score   support\n",
            "\n",
            "           0   0.996944  0.989011  0.992962      2639\n",
            "           1   0.998864  1.000000  0.999432      2638\n",
            "           2   0.989065  0.995824  0.992433      2634\n",
            "           3   0.943598  0.957093  0.950297      2587\n",
            "           4   0.949323  0.957098  0.953195      2564\n",
            "           5   1.000000  0.977458  0.988601      2573\n",
            "\n",
            "    accuracy                       0.979597     15635\n",
            "   macro avg   0.979632  0.979414  0.979487     15635\n",
            "weighted avg   0.979807  0.979597  0.979666     15635\n",
            "\n",
            "DecisionTreeClassifier 0.9999360409338024\n",
            "              precision    recall  f1-score   support\n",
            "\n",
            "           0   1.000000  1.000000  1.000000      2639\n",
            "           1   1.000000  1.000000  1.000000      2638\n",
            "           2   1.000000  1.000000  1.000000      2634\n",
            "           3   1.000000  0.999613  0.999807      2587\n",
            "           4   0.999610  1.000000  0.999805      2564\n",
            "           5   1.000000  1.000000  1.000000      2573\n",
            "\n",
            "    accuracy                       0.999936     15635\n",
            "   macro avg   0.999935  0.999936  0.999935     15635\n",
            "weighted avg   0.999936  0.999936  0.999936     15635\n",
            "\n"
          ]
        },
        {
          "output_type": "stream",
          "name": "stderr",
          "text": [
            "/usr/local/lib/python3.8/dist-packages/sklearn/preprocessing/_label.py:99: DataConversionWarning: A column-vector y was passed when a 1d array was expected. Please change the shape of y to (n_samples, ), for example using ravel().\n",
            "  y = column_or_1d(y, warn=True)\n",
            "/usr/local/lib/python3.8/dist-packages/sklearn/preprocessing/_label.py:134: DataConversionWarning: A column-vector y was passed when a 1d array was expected. Please change the shape of y to (n_samples, ), for example using ravel().\n",
            "  y = column_or_1d(y, dtype=self.classes_.dtype, warn=True)\n"
          ]
        },
        {
          "output_type": "stream",
          "name": "stdout",
          "text": [
            "XGBClassifier 1.0\n",
            "              precision    recall  f1-score   support\n",
            "\n",
            "           0   1.000000  1.000000  1.000000      2639\n",
            "           1   1.000000  1.000000  1.000000      2638\n",
            "           2   1.000000  1.000000  1.000000      2634\n",
            "           3   1.000000  1.000000  1.000000      2587\n",
            "           4   1.000000  1.000000  1.000000      2564\n",
            "           5   1.000000  1.000000  1.000000      2573\n",
            "\n",
            "    accuracy                       1.000000     15635\n",
            "   macro avg   1.000000  1.000000  1.000000     15635\n",
            "weighted avg   1.000000  1.000000  1.000000     15635\n",
            "\n"
          ]
        },
        {
          "output_type": "stream",
          "name": "stderr",
          "text": [
            "/usr/local/lib/python3.8/dist-packages/sklearn/preprocessing/_label.py:99: DataConversionWarning: A column-vector y was passed when a 1d array was expected. Please change the shape of y to (n_samples, ), for example using ravel().\n",
            "  y = column_or_1d(y, warn=True)\n",
            "/usr/local/lib/python3.8/dist-packages/sklearn/preprocessing/_label.py:134: DataConversionWarning: A column-vector y was passed when a 1d array was expected. Please change the shape of y to (n_samples, ), for example using ravel().\n",
            "  y = column_or_1d(y, dtype=self.classes_.dtype, warn=True)\n"
          ]
        },
        {
          "output_type": "stream",
          "name": "stdout",
          "text": [
            "VotingClassifier 0.9948193156379916\n",
            "              precision    recall  f1-score   support\n",
            "\n",
            "           0   1.000000  1.000000  1.000000      2639\n",
            "           1   1.000000  1.000000  1.000000      2638\n",
            "           2   1.000000  1.000000  1.000000      2634\n",
            "           3   0.980445  0.988404  0.984408      2587\n",
            "           4   0.988217  0.981279  0.984736      2564\n",
            "           5   1.000000  0.998834  0.999417      2573\n",
            "\n",
            "    accuracy                       0.994819     15635\n",
            "   macro avg   0.994777  0.994753  0.994760     15635\n",
            "weighted avg   0.994832  0.994819  0.994821     15635\n",
            "\n"
          ]
        }
      ],
      "source": [
        "from sklearn.metrics import accuracy_score\n",
        "\n",
        "for clf in (log_clf, rnd_clf, svm_clf, DT_clf,xgb_clf, voting_clf):\n",
        "    clf.fit(XX_train, yy_train)\n",
        "    y_pred = clf.predict(XX_test)\n",
        "    print(clf.__class__.__name__, accuracy_score(yy_test, y_pred))\n",
        "    print(classification_report(yy_test,y_pred, digits=6))"
      ]
    },
    {
      "cell_type": "markdown",
      "metadata": {
        "id": "D0ieRA4SX_Tg"
      },
      "source": [
        "Soft Voting"
      ]
    },
    {
      "cell_type": "code",
      "execution_count": null,
      "metadata": {
        "colab": {
          "base_uri": "https://localhost:8080/",
          "height": 201
        },
        "id": "L7pdDyU_5eBq",
        "outputId": "cd8de3b1-3440-48b6-9d67-041be082baa5"
      },
      "outputs": [
        {
          "output_type": "stream",
          "name": "stderr",
          "text": [
            "/usr/local/lib/python3.8/dist-packages/sklearn/preprocessing/_label.py:99: DataConversionWarning: A column-vector y was passed when a 1d array was expected. Please change the shape of y to (n_samples, ), for example using ravel().\n",
            "  y = column_or_1d(y, warn=True)\n",
            "/usr/local/lib/python3.8/dist-packages/sklearn/preprocessing/_label.py:134: DataConversionWarning: A column-vector y was passed when a 1d array was expected. Please change the shape of y to (n_samples, ), for example using ravel().\n",
            "  y = column_or_1d(y, dtype=self.classes_.dtype, warn=True)\n"
          ]
        },
        {
          "output_type": "execute_result",
          "data": {
            "text/plain": [
              "VotingClassifier(estimators=[('lr', LogisticRegression(random_state=42)),\n",
              "                             ('rf', RandomForestClassifier(random_state=42)),\n",
              "                             ('svc', SVC(probability=True, random_state=42)),\n",
              "                             ('tree',\n",
              "                              DecisionTreeClassifier(max_depth=8,\n",
              "                                                     min_samples_leaf=2,\n",
              "                                                     splitter='random')),\n",
              "                             ('xgb', XGBClassifier(min_samples_split=2))],\n",
              "                 voting='soft')"
            ],
            "text/html": [
              "<style>#sk-container-id-2 {color: black;background-color: white;}#sk-container-id-2 pre{padding: 0;}#sk-container-id-2 div.sk-toggleable {background-color: white;}#sk-container-id-2 label.sk-toggleable__label {cursor: pointer;display: block;width: 100%;margin-bottom: 0;padding: 0.3em;box-sizing: border-box;text-align: center;}#sk-container-id-2 label.sk-toggleable__label-arrow:before {content: \"▸\";float: left;margin-right: 0.25em;color: #696969;}#sk-container-id-2 label.sk-toggleable__label-arrow:hover:before {color: black;}#sk-container-id-2 div.sk-estimator:hover label.sk-toggleable__label-arrow:before {color: black;}#sk-container-id-2 div.sk-toggleable__content {max-height: 0;max-width: 0;overflow: hidden;text-align: left;background-color: #f0f8ff;}#sk-container-id-2 div.sk-toggleable__content pre {margin: 0.2em;color: black;border-radius: 0.25em;background-color: #f0f8ff;}#sk-container-id-2 input.sk-toggleable__control:checked~div.sk-toggleable__content {max-height: 200px;max-width: 100%;overflow: auto;}#sk-container-id-2 input.sk-toggleable__control:checked~label.sk-toggleable__label-arrow:before {content: \"▾\";}#sk-container-id-2 div.sk-estimator input.sk-toggleable__control:checked~label.sk-toggleable__label {background-color: #d4ebff;}#sk-container-id-2 div.sk-label input.sk-toggleable__control:checked~label.sk-toggleable__label {background-color: #d4ebff;}#sk-container-id-2 input.sk-hidden--visually {border: 0;clip: rect(1px 1px 1px 1px);clip: rect(1px, 1px, 1px, 1px);height: 1px;margin: -1px;overflow: hidden;padding: 0;position: absolute;width: 1px;}#sk-container-id-2 div.sk-estimator {font-family: monospace;background-color: #f0f8ff;border: 1px dotted black;border-radius: 0.25em;box-sizing: border-box;margin-bottom: 0.5em;}#sk-container-id-2 div.sk-estimator:hover {background-color: #d4ebff;}#sk-container-id-2 div.sk-parallel-item::after {content: \"\";width: 100%;border-bottom: 1px solid gray;flex-grow: 1;}#sk-container-id-2 div.sk-label:hover label.sk-toggleable__label {background-color: #d4ebff;}#sk-container-id-2 div.sk-serial::before {content: \"\";position: absolute;border-left: 1px solid gray;box-sizing: border-box;top: 0;bottom: 0;left: 50%;z-index: 0;}#sk-container-id-2 div.sk-serial {display: flex;flex-direction: column;align-items: center;background-color: white;padding-right: 0.2em;padding-left: 0.2em;position: relative;}#sk-container-id-2 div.sk-item {position: relative;z-index: 1;}#sk-container-id-2 div.sk-parallel {display: flex;align-items: stretch;justify-content: center;background-color: white;position: relative;}#sk-container-id-2 div.sk-item::before, #sk-container-id-2 div.sk-parallel-item::before {content: \"\";position: absolute;border-left: 1px solid gray;box-sizing: border-box;top: 0;bottom: 0;left: 50%;z-index: -1;}#sk-container-id-2 div.sk-parallel-item {display: flex;flex-direction: column;z-index: 1;position: relative;background-color: white;}#sk-container-id-2 div.sk-parallel-item:first-child::after {align-self: flex-end;width: 50%;}#sk-container-id-2 div.sk-parallel-item:last-child::after {align-self: flex-start;width: 50%;}#sk-container-id-2 div.sk-parallel-item:only-child::after {width: 0;}#sk-container-id-2 div.sk-dashed-wrapped {border: 1px dashed gray;margin: 0 0.4em 0.5em 0.4em;box-sizing: border-box;padding-bottom: 0.4em;background-color: white;}#sk-container-id-2 div.sk-label label {font-family: monospace;font-weight: bold;display: inline-block;line-height: 1.2em;}#sk-container-id-2 div.sk-label-container {text-align: center;}#sk-container-id-2 div.sk-container {/* jupyter's `normalize.less` sets `[hidden] { display: none; }` but bootstrap.min.css set `[hidden] { display: none !important; }` so we also need the `!important` here to be able to override the default hidden behavior on the sphinx rendered scikit-learn.org. See: https://github.com/scikit-learn/scikit-learn/issues/21755 */display: inline-block !important;position: relative;}#sk-container-id-2 div.sk-text-repr-fallback {display: none;}</style><div id=\"sk-container-id-2\" class=\"sk-top-container\"><div class=\"sk-text-repr-fallback\"><pre>VotingClassifier(estimators=[(&#x27;lr&#x27;, LogisticRegression(random_state=42)),\n",
              "                             (&#x27;rf&#x27;, RandomForestClassifier(random_state=42)),\n",
              "                             (&#x27;svc&#x27;, SVC(probability=True, random_state=42)),\n",
              "                             (&#x27;tree&#x27;,\n",
              "                              DecisionTreeClassifier(max_depth=8,\n",
              "                                                     min_samples_leaf=2,\n",
              "                                                     splitter=&#x27;random&#x27;)),\n",
              "                             (&#x27;xgb&#x27;, XGBClassifier(min_samples_split=2))],\n",
              "                 voting=&#x27;soft&#x27;)</pre><b>In a Jupyter environment, please rerun this cell to show the HTML representation or trust the notebook. <br />On GitHub, the HTML representation is unable to render, please try loading this page with nbviewer.org.</b></div><div class=\"sk-container\" hidden><div class=\"sk-item sk-dashed-wrapped\"><div class=\"sk-label-container\"><div class=\"sk-label sk-toggleable\"><input class=\"sk-toggleable__control sk-hidden--visually\" id=\"sk-estimator-id-7\" type=\"checkbox\" ><label for=\"sk-estimator-id-7\" class=\"sk-toggleable__label sk-toggleable__label-arrow\">VotingClassifier</label><div class=\"sk-toggleable__content\"><pre>VotingClassifier(estimators=[(&#x27;lr&#x27;, LogisticRegression(random_state=42)),\n",
              "                             (&#x27;rf&#x27;, RandomForestClassifier(random_state=42)),\n",
              "                             (&#x27;svc&#x27;, SVC(probability=True, random_state=42)),\n",
              "                             (&#x27;tree&#x27;,\n",
              "                              DecisionTreeClassifier(max_depth=8,\n",
              "                                                     min_samples_leaf=2,\n",
              "                                                     splitter=&#x27;random&#x27;)),\n",
              "                             (&#x27;xgb&#x27;, XGBClassifier(min_samples_split=2))],\n",
              "                 voting=&#x27;soft&#x27;)</pre></div></div></div><div class=\"sk-parallel\"><div class=\"sk-parallel-item\"><div class=\"sk-item\"><div class=\"sk-label-container\"><div class=\"sk-label sk-toggleable\"><label>lr</label></div></div><div class=\"sk-serial\"><div class=\"sk-item\"><div class=\"sk-estimator sk-toggleable\"><input class=\"sk-toggleable__control sk-hidden--visually\" id=\"sk-estimator-id-8\" type=\"checkbox\" ><label for=\"sk-estimator-id-8\" class=\"sk-toggleable__label sk-toggleable__label-arrow\">LogisticRegression</label><div class=\"sk-toggleable__content\"><pre>LogisticRegression(random_state=42)</pre></div></div></div></div></div></div><div class=\"sk-parallel-item\"><div class=\"sk-item\"><div class=\"sk-label-container\"><div class=\"sk-label sk-toggleable\"><label>rf</label></div></div><div class=\"sk-serial\"><div class=\"sk-item\"><div class=\"sk-estimator sk-toggleable\"><input class=\"sk-toggleable__control sk-hidden--visually\" id=\"sk-estimator-id-9\" type=\"checkbox\" ><label for=\"sk-estimator-id-9\" class=\"sk-toggleable__label sk-toggleable__label-arrow\">RandomForestClassifier</label><div class=\"sk-toggleable__content\"><pre>RandomForestClassifier(random_state=42)</pre></div></div></div></div></div></div><div class=\"sk-parallel-item\"><div class=\"sk-item\"><div class=\"sk-label-container\"><div class=\"sk-label sk-toggleable\"><label>svc</label></div></div><div class=\"sk-serial\"><div class=\"sk-item\"><div class=\"sk-estimator sk-toggleable\"><input class=\"sk-toggleable__control sk-hidden--visually\" id=\"sk-estimator-id-10\" type=\"checkbox\" ><label for=\"sk-estimator-id-10\" class=\"sk-toggleable__label sk-toggleable__label-arrow\">SVC</label><div class=\"sk-toggleable__content\"><pre>SVC(probability=True, random_state=42)</pre></div></div></div></div></div></div><div class=\"sk-parallel-item\"><div class=\"sk-item\"><div class=\"sk-label-container\"><div class=\"sk-label sk-toggleable\"><label>tree</label></div></div><div class=\"sk-serial\"><div class=\"sk-item\"><div class=\"sk-estimator sk-toggleable\"><input class=\"sk-toggleable__control sk-hidden--visually\" id=\"sk-estimator-id-11\" type=\"checkbox\" ><label for=\"sk-estimator-id-11\" class=\"sk-toggleable__label sk-toggleable__label-arrow\">DecisionTreeClassifier</label><div class=\"sk-toggleable__content\"><pre>DecisionTreeClassifier(max_depth=8, min_samples_leaf=2, splitter=&#x27;random&#x27;)</pre></div></div></div></div></div></div><div class=\"sk-parallel-item\"><div class=\"sk-item\"><div class=\"sk-label-container\"><div class=\"sk-label sk-toggleable\"><label>xgb</label></div></div><div class=\"sk-serial\"><div class=\"sk-item\"><div class=\"sk-estimator sk-toggleable\"><input class=\"sk-toggleable__control sk-hidden--visually\" id=\"sk-estimator-id-12\" type=\"checkbox\" ><label for=\"sk-estimator-id-12\" class=\"sk-toggleable__label sk-toggleable__label-arrow\">XGBClassifier</label><div class=\"sk-toggleable__content\"><pre>XGBClassifier(min_samples_split=2)</pre></div></div></div></div></div></div></div></div></div></div>"
            ]
          },
          "metadata": {},
          "execution_count": 38
        }
      ],
      "source": [
        "log_clf = LogisticRegression(solver=\"lbfgs\", random_state=42)\n",
        "rnd_clf = RandomForestClassifier(n_estimators=100, random_state=42)\n",
        "svm_clf = SVC(gamma=\"scale\", probability=True, random_state=42)\n",
        "DT_clf= DecisionTreeClassifier(max_depth=8,criterion=\"gini\", min_samples_split=2, splitter=\"random\", min_samples_leaf=2)\n",
        "\n",
        "\n",
        "voting_clf = VotingClassifier(\n",
        "    estimators=[('lr', log_clf), ('rf', rnd_clf), ('svc', svm_clf),('tree', DT_clf),('xgb', xgb_clf)],\n",
        "    voting='soft')\n",
        "voting_clf.fit(XX_train, yy_train)"
      ]
    },
    {
      "cell_type": "code",
      "execution_count": null,
      "metadata": {
        "colab": {
          "base_uri": "https://localhost:8080/"
        },
        "id": "nwDcIThn6VCw",
        "outputId": "3ae0e855-d345-427b-fa13-bb62e0f0afe4"
      },
      "outputs": [
        {
          "output_type": "stream",
          "name": "stderr",
          "text": [
            "/usr/local/lib/python3.8/dist-packages/sklearn/utils/validation.py:1141: DataConversionWarning: A column-vector y was passed when a 1d array was expected. Please change the shape of y to (n_samples, ), for example using ravel().\n",
            "  y = column_or_1d(y, warn=True)\n"
          ]
        },
        {
          "output_type": "stream",
          "name": "stdout",
          "text": [
            "LogisticRegression 0.9803006076111289\n",
            "              precision    recall  f1-score   support\n",
            "\n",
            "           0    1.00000   0.99726   0.99863      2557\n",
            "           1    0.99962   1.00000   0.99981      2637\n",
            "           2    0.99775   0.99962   0.99868      2656\n",
            "           3    0.95138   0.93150   0.94134      2584\n",
            "           4    0.93410   0.95713   0.94547      2636\n",
            "           5    1.00000   0.99610   0.99805      2565\n",
            "\n",
            "    accuracy                        0.98030     15635\n",
            "   macro avg    0.98047   0.98027   0.98033     15635\n",
            "weighted avg    0.98041   0.98030   0.98031     15635\n",
            "\n"
          ]
        },
        {
          "output_type": "stream",
          "name": "stderr",
          "text": [
            "<ipython-input-39-e0c882eb58ad>:4: DataConversionWarning: A column-vector y was passed when a 1d array was expected. Please change the shape of y to (n_samples,), for example using ravel().\n",
            "  clf.fit(XX_train, yy_train)\n"
          ]
        },
        {
          "output_type": "stream",
          "name": "stdout",
          "text": [
            "RandomForestClassifier 1.0\n",
            "              precision    recall  f1-score   support\n",
            "\n",
            "           0    1.00000   1.00000   1.00000      2557\n",
            "           1    1.00000   1.00000   1.00000      2637\n",
            "           2    1.00000   1.00000   1.00000      2656\n",
            "           3    1.00000   1.00000   1.00000      2584\n",
            "           4    1.00000   1.00000   1.00000      2636\n",
            "           5    1.00000   1.00000   1.00000      2565\n",
            "\n",
            "    accuracy                        1.00000     15635\n",
            "   macro avg    1.00000   1.00000   1.00000     15635\n",
            "weighted avg    1.00000   1.00000   1.00000     15635\n",
            "\n"
          ]
        },
        {
          "output_type": "stream",
          "name": "stderr",
          "text": [
            "/usr/local/lib/python3.8/dist-packages/sklearn/utils/validation.py:1141: DataConversionWarning: A column-vector y was passed when a 1d array was expected. Please change the shape of y to (n_samples, ), for example using ravel().\n",
            "  y = column_or_1d(y, warn=True)\n"
          ]
        },
        {
          "output_type": "stream",
          "name": "stdout",
          "text": [
            "SVC 0.9804924848097217\n",
            "              precision    recall  f1-score   support\n",
            "\n",
            "           0    0.99961   0.99140   0.99548      2557\n",
            "           1    0.99886   0.99962   0.99924      2637\n",
            "           2    0.99140   0.99849   0.99494      2656\n",
            "           3    0.95234   0.95124   0.95179      2584\n",
            "           4    0.94238   0.96168   0.95193      2636\n",
            "           5    1.00000   0.98012   0.98996      2565\n",
            "\n",
            "    accuracy                        0.98049     15635\n",
            "   macro avg    0.98077   0.98043   0.98056     15635\n",
            "weighted avg    0.98069   0.98049   0.98055     15635\n",
            "\n",
            "DecisionTreeClassifier 0.9998720818676047\n",
            "              precision    recall  f1-score   support\n",
            "\n",
            "           0    1.00000   1.00000   1.00000      2557\n",
            "           1    1.00000   1.00000   1.00000      2637\n",
            "           2    1.00000   1.00000   1.00000      2656\n",
            "           3    0.99923   1.00000   0.99961      2584\n",
            "           4    1.00000   1.00000   1.00000      2636\n",
            "           5    1.00000   0.99922   0.99961      2565\n",
            "\n",
            "    accuracy                        0.99987     15635\n",
            "   macro avg    0.99987   0.99987   0.99987     15635\n",
            "weighted avg    0.99987   0.99987   0.99987     15635\n",
            "\n"
          ]
        },
        {
          "output_type": "stream",
          "name": "stderr",
          "text": [
            "/usr/local/lib/python3.8/dist-packages/sklearn/preprocessing/_label.py:99: DataConversionWarning: A column-vector y was passed when a 1d array was expected. Please change the shape of y to (n_samples, ), for example using ravel().\n",
            "  y = column_or_1d(y, warn=True)\n",
            "/usr/local/lib/python3.8/dist-packages/sklearn/preprocessing/_label.py:134: DataConversionWarning: A column-vector y was passed when a 1d array was expected. Please change the shape of y to (n_samples, ), for example using ravel().\n",
            "  y = column_or_1d(y, dtype=self.classes_.dtype, warn=True)\n"
          ]
        },
        {
          "output_type": "stream",
          "name": "stdout",
          "text": [
            "XGBClassifier 1.0\n",
            "              precision    recall  f1-score   support\n",
            "\n",
            "           0    1.00000   1.00000   1.00000      2557\n",
            "           1    1.00000   1.00000   1.00000      2637\n",
            "           2    1.00000   1.00000   1.00000      2656\n",
            "           3    1.00000   1.00000   1.00000      2584\n",
            "           4    1.00000   1.00000   1.00000      2636\n",
            "           5    1.00000   1.00000   1.00000      2565\n",
            "\n",
            "    accuracy                        1.00000     15635\n",
            "   macro avg    1.00000   1.00000   1.00000     15635\n",
            "weighted avg    1.00000   1.00000   1.00000     15635\n",
            "\n"
          ]
        },
        {
          "output_type": "stream",
          "name": "stderr",
          "text": [
            "/usr/local/lib/python3.8/dist-packages/sklearn/preprocessing/_label.py:99: DataConversionWarning: A column-vector y was passed when a 1d array was expected. Please change the shape of y to (n_samples, ), for example using ravel().\n",
            "  y = column_or_1d(y, warn=True)\n",
            "/usr/local/lib/python3.8/dist-packages/sklearn/preprocessing/_label.py:134: DataConversionWarning: A column-vector y was passed when a 1d array was expected. Please change the shape of y to (n_samples, ), for example using ravel().\n",
            "  y = column_or_1d(y, dtype=self.classes_.dtype, warn=True)\n"
          ]
        },
        {
          "output_type": "stream",
          "name": "stdout",
          "text": [
            "VotingClassifier 0.9990406140070355\n",
            "              precision    recall  f1-score   support\n",
            "\n",
            "           0    1.00000   1.00000   1.00000      2557\n",
            "           1    1.00000   1.00000   1.00000      2637\n",
            "           2    1.00000   1.00000   1.00000      2656\n",
            "           3    0.99961   0.99458   0.99709      2584\n",
            "           4    0.99472   1.00000   0.99735      2636\n",
            "           5    1.00000   0.99961   0.99981      2565\n",
            "\n",
            "    accuracy                        0.99904     15635\n",
            "   macro avg    0.99905   0.99903   0.99904     15635\n",
            "weighted avg    0.99905   0.99904   0.99904     15635\n",
            "\n"
          ]
        }
      ],
      "source": [
        "from sklearn.metrics import accuracy_score\n",
        "\n",
        "for clf in (log_clf, rnd_clf, svm_clf, DT_clf, xgb_clf, voting_clf):\n",
        "    clf.fit(XX_train, yy_train)\n",
        "    y_pred = clf.predict(XX_test)\n",
        "    print(clf.__class__.__name__, accuracy_score(yy_test, y_pred))\n",
        "    print(classification_report(yy_test,y_pred, digits=5))"
      ]
    }
  ],
  "metadata": {
    "colab": {
      "provenance": [],
      "include_colab_link": true
    },
    "kernelspec": {
      "display_name": "Python 3",
      "name": "python3"
    },
    "language_info": {
      "name": "python"
    }
  },
  "nbformat": 4,
  "nbformat_minor": 0
}